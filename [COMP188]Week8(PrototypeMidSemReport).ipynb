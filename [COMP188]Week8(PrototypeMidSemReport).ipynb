{
 "cells": [
  {
   "cell_type": "markdown",
   "metadata": {},
   "source": [
    "# Mid Sem Report\n",
    "\n",
    "**Index**\n",
    "1. Introduction [goto](#intro)\n",
    "2. Data Discussion [goto](#data)\n",
    "3. Baseline [goto](#baseline)\n",
    "4. Discussion [goto](#discussion)"
   ]
  },
  {
   "cell_type": "markdown",
   "metadata": {},
   "source": [
    "<a id='intro'></a>\n",
    "## Introduction\n",
    "\n",
    "Media has to be written in a style that is liked by their target audience in order to get a subscribing customer base. So we'd expect the news publisher, Vice News, to usually write in a style and subject that appeals to a younger bohemian reader base, on the other hand, Fox News would expectedly write in a style for older more conservative types.\n",
    "\n",
    "Then ideally, we should then therefore be able to come up with a framework about the type of vocabulary and subject matter that each publisher would be writing about.\n",
    "\n",
    "Our project is just that, we want to use Natural Language Processing AI (NLP) methods to be able to determine the variations between 15 different new publishers. We want to create a system that would be able to accurately explore the diversity in news publishing. \n",
    "\n",
    "This will all be done with a [kaggle dataset](https://www.kaggle.com/snapcrack/all-the-news) containing around 150,000 new articles, with only the article content being our primary predictor for publication source."
   ]
  },
  {
   "cell_type": "markdown",
   "metadata": {},
   "source": [
    "<a id='data'></a>\n",
    "## Data Exploration\n",
    "### Preliminary "
   ]
  },
  {
   "cell_type": "code",
   "execution_count": 9,
   "metadata": {},
   "outputs": [],
   "source": [
    "import pandas as pd\n",
    "import numpy as np\n",
    "\n",
    "df = pd.read_csv('../../data/news/articles1.csv')\n",
    "df = df.append(pd.read_csv('../../data/news/articles2.csv'))\n",
    "df = df.append(pd.read_csv('../../data/news/articles3.csv'))"
   ]
  },
  {
   "cell_type": "code",
   "execution_count": null,
   "metadata": {},
   "outputs": [],
   "source": [
    "import matplotlib.pyplot as plt\n",
    "%matplotlib inline\n",
    "\n",
    "plt.barh(df['publication'], width=0.1)"
   ]
  },
  {
   "cell_type": "markdown",
   "metadata": {},
   "source": [
    "<a id='baseline'></a>\n",
    "## Baseline"
   ]
  },
  {
   "cell_type": "markdown",
   "metadata": {},
   "source": [
    "<a id='discussion'></a>\n",
    "## Discussion"
   ]
  }
 ],
 "metadata": {
  "kernelspec": {
   "display_name": "Python 3",
   "language": "python",
   "name": "python3"
  },
  "language_info": {
   "codemirror_mode": {
    "name": "ipython",
    "version": 3
   },
   "file_extension": ".py",
   "mimetype": "text/x-python",
   "name": "python",
   "nbconvert_exporter": "python",
   "pygments_lexer": "ipython3",
   "version": "3.6.4"
  }
 },
 "nbformat": 4,
 "nbformat_minor": 2
}
