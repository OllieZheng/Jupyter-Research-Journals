{
 "cells": [
  {
   "cell_type": "code",
   "execution_count": 1,
   "metadata": {},
   "outputs": [
    {
     "name": "stderr",
     "output_type": "stream",
     "text": [
      "D:\\Anaconda3\\lib\\site-packages\\h5py\\__init__.py:36: FutureWarning: Conversion of the second argument of issubdtype from `float` to `np.floating` is deprecated. In future, it will be treated as `np.float64 == np.dtype(float).type`.\n",
      "  from ._conv import register_converters as _register_converters\n",
      "Using TensorFlow backend.\n"
     ]
    }
   ],
   "source": [
    "from keras.models import Sequential\n",
    "from keras.layers import Dense\n",
    "from keras import optimizers"
   ]
  },
  {
   "cell_type": "code",
   "execution_count": 2,
   "metadata": {},
   "outputs": [],
   "source": [
    "import numpy as np\n",
    "import pandas as pd\n",
    "import math\n",
    "\n",
    "from matplotlib import cm, gridspec\n",
    "from matplotlib import pyplot as plt"
   ]
  },
  {
   "cell_type": "code",
   "execution_count": 4,
   "metadata": {},
   "outputs": [],
   "source": [
    "%matplotlib inline\n",
    "df = pd.read_csv('data/Family Income and Expenditure.csv')\n",
    "\n",
    "import re\n",
    "\n",
    "if \"Total Food Expenditure\" in list(df):    \n",
    "    df = df.drop(\"Total Food Expenditure\", 1)\n",
    "reg = re.compile('.*(([Ee]xpenditure)|([Ee]xpenses))$')\n",
    "expenditure_types = [var for var in list(df) if re.match(reg, var)]\n",
    "df[\"TotalExpenditure\"] = np.sum(df[expenditure_types],1)\n",
    "\n",
    "reg_number = re.compile('Number.*')\n",
    "reg_house = re.compile('House .*')\n",
    "reg_type = re.compile('Type .*')\n",
    "\n",
    "remove = [var for var in list(df) if re.match(reg_number, var) \n",
    "                                  or re.match(reg_house, var) \n",
    "                                  or re.match(reg_type, var)]  + expenditure_types\n",
    "\n",
    "for var in remove:\n",
    "    if var in list(df):\n",
    "        df = df.drop(var, 1)\n",
    "\n",
    "df = df.rename(index=str, columns={var:(re.sub('[\\s+]', '', var))for var in list(df)})"
   ]
  },
  {
   "cell_type": "code",
   "execution_count": 5,
   "metadata": {},
   "outputs": [],
   "source": [
    "df = df.reindex(np.random.permutation(df.index))\n",
    "df['Bias'] = 1\n",
    "\n",
    "X = df[\"HouseholdHeadAge\"]\n",
    "#y = df[\"TotalExpenditure\"]\n",
    "y = df[\"HouseholdHeadAge\"]**2 + 10 + np.random.normal(scale=300, size=df.shape[0])"
   ]
  },
  {
   "cell_type": "code",
   "execution_count": 6,
   "metadata": {},
   "outputs": [
    {
     "data": {
      "text/plain": [
       "1164     46\n",
       "1044     24\n",
       "622      31\n",
       "31563    65\n",
       "19478    44\n",
       "19935    33\n",
       "26257    76\n",
       "17303    60\n",
       "4809     36\n",
       "30531    56\n",
       "Name: HouseholdHeadAge, dtype: int64"
      ]
     },
     "execution_count": 6,
     "metadata": {},
     "output_type": "execute_result"
    }
   ],
   "source": [
    "X[:10]"
   ]
  },
  {
   "cell_type": "code",
   "execution_count": 7,
   "metadata": {},
   "outputs": [
    {
     "data": {
      "text/plain": [
       "1164     1664.061228\n",
       "1044      575.075585\n",
       "622       775.778160\n",
       "31563    4150.371669\n",
       "19478    2355.842794\n",
       "19935     906.448681\n",
       "26257    5484.396152\n",
       "17303    4165.730796\n",
       "4809     1592.881692\n",
       "30531    2602.939492\n",
       "Name: HouseholdHeadAge, dtype: float64"
      ]
     },
     "execution_count": 7,
     "metadata": {},
     "output_type": "execute_result"
    }
   ],
   "source": [
    "y[:10]"
   ]
  },
  {
   "cell_type": "code",
   "execution_count": 8,
   "metadata": {},
   "outputs": [],
   "source": [
    "model = Sequential()\n",
    "model.add(Dense(units=5, activation='relu', input_dim=1))\n",
    "model.add(Dense(units=5, activation='relu'))\n",
    "model.add(Dense(units=1, activation='linear'))\n",
    "model.compile(loss='mse',\n",
    "#              optimizer=optimizers.SGD(lr=0.0001),\n",
    "              optimizer='rmsprop',\n",
    "              metrics=['mse'])"
   ]
  },
  {
   "cell_type": "code",
   "execution_count": 9,
   "metadata": {},
   "outputs": [
    {
     "name": "stdout",
     "output_type": "stream",
     "text": [
      "Epoch 1/50\n",
      "41544/41544 [==============================] - 1s 21us/step - loss: 9389862.9847 - mean_squared_error: 9389862.9847\n",
      "Epoch 2/50\n",
      "41544/41544 [==============================] - 1s 17us/step - loss: 3556138.4063 - mean_squared_error: 3556138.4063\n",
      "Epoch 3/50\n",
      "41544/41544 [==============================] - 1s 18us/step - loss: 647744.6248 - mean_squared_error: 647744.6248\n",
      "Epoch 4/50\n",
      "41544/41544 [==============================] - 1s 18us/step - loss: 637798.7131 - mean_squared_error: 637798.7131\n",
      "Epoch 5/50\n",
      "41544/41544 [==============================] - 1s 18us/step - loss: 628889.5387 - mean_squared_error: 628889.5387\n",
      "Epoch 6/50\n",
      "41544/41544 [==============================] - 1s 18us/step - loss: 620122.6600 - mean_squared_error: 620122.6600\n",
      "Epoch 7/50\n",
      "41544/41544 [==============================] - 1s 18us/step - loss: 611144.8998 - mean_squared_error: 611144.8998\n",
      "Epoch 8/50\n",
      "41544/41544 [==============================] - 1s 17us/step - loss: 602181.4155 - mean_squared_error: 602181.4155\n",
      "Epoch 9/50\n",
      "41544/41544 [==============================] - 1s 19us/step - loss: 593065.2792 - mean_squared_error: 593065.2792\n",
      "Epoch 10/50\n",
      "41544/41544 [==============================] - 1s 19us/step - loss: 583884.7975 - mean_squared_error: 583884.7975\n",
      "Epoch 11/50\n",
      "41544/41544 [==============================] - 1s 19us/step - loss: 574268.1043 - mean_squared_error: 574268.1043\n",
      "Epoch 12/50\n",
      "41544/41544 [==============================] - 1s 18us/step - loss: 564231.0477 - mean_squared_error: 564231.0477\n",
      "Epoch 13/50\n",
      "41544/41544 [==============================] - 1s 19us/step - loss: 553796.3766 - mean_squared_error: 553796.3766\n",
      "Epoch 14/50\n",
      "41544/41544 [==============================] - 1s 18us/step - loss: 543256.6673 - mean_squared_error: 543256.6673\n",
      "Epoch 15/50\n",
      "41544/41544 [==============================] - 1s 18us/step - loss: 532083.4495 - mean_squared_error: 532083.4495\n",
      "Epoch 16/50\n",
      "41544/41544 [==============================] - 1s 19us/step - loss: 520351.6651 - mean_squared_error: 520351.6651\n",
      "Epoch 17/50\n",
      "41544/41544 [==============================] - 1s 19us/step - loss: 507758.7346 - mean_squared_error: 507758.7346\n",
      "Epoch 18/50\n",
      "41544/41544 [==============================] - 1s 18us/step - loss: 494112.6534 - mean_squared_error: 494112.6534\n",
      "Epoch 19/50\n",
      "41544/41544 [==============================] - 1s 17us/step - loss: 479451.6281 - mean_squared_error: 479451.6281\n",
      "Epoch 20/50\n",
      "41544/41544 [==============================] - 1s 17us/step - loss: 463760.2276 - mean_squared_error: 463760.2276\n",
      "Epoch 21/50\n",
      "41544/41544 [==============================] - 1s 19us/step - loss: 446174.6139 - mean_squared_error: 446174.6139\n",
      "Epoch 22/50\n",
      "41544/41544 [==============================] - 1s 19us/step - loss: 426808.4191 - mean_squared_error: 426808.4191\n",
      "Epoch 23/50\n",
      "41544/41544 [==============================] - 1s 18us/step - loss: 405496.9880 - mean_squared_error: 405496.9880\n",
      "Epoch 24/50\n",
      "41544/41544 [==============================] - 1s 17us/step - loss: 381780.9499 - mean_squared_error: 381780.9499\n",
      "Epoch 25/50\n",
      "41544/41544 [==============================] - 1s 17us/step - loss: 355346.1093 - mean_squared_error: 355346.1093\n",
      "Epoch 26/50\n",
      "41544/41544 [==============================] - 1s 18us/step - loss: 327334.4924 - mean_squared_error: 327334.4924\n",
      "Epoch 27/50\n",
      "41544/41544 [==============================] - 1s 17us/step - loss: 296928.0967 - mean_squared_error: 296928.0967\n",
      "Epoch 28/50\n",
      "41544/41544 [==============================] - 1s 18us/step - loss: 264983.2855 - mean_squared_error: 264983.2855\n",
      "Epoch 29/50\n",
      "41544/41544 [==============================] - 1s 18us/step - loss: 233065.8860 - mean_squared_error: 233065.8860\n",
      "Epoch 30/50\n",
      "41544/41544 [==============================] - 1s 18us/step - loss: 203457.2566 - mean_squared_error: 203457.2566\n",
      "Epoch 31/50\n",
      "41544/41544 [==============================] - 1s 18us/step - loss: 179454.8963 - mean_squared_error: 179454.8963\n",
      "Epoch 32/50\n",
      "41544/41544 [==============================] - 1s 18us/step - loss: 162824.0239 - mean_squared_error: 162824.0239\n",
      "Epoch 33/50\n",
      "41544/41544 [==============================] - 1s 18us/step - loss: 152729.6605 - mean_squared_error: 152729.6605\n",
      "Epoch 34/50\n",
      "41544/41544 [==============================] - 1s 18us/step - loss: 147754.4780 - mean_squared_error: 147754.4780\n",
      "Epoch 35/50\n",
      "41544/41544 [==============================] - 1s 18us/step - loss: 145653.0441 - mean_squared_error: 145653.0441\n",
      "Epoch 36/50\n",
      "41544/41544 [==============================] - 1s 18us/step - loss: 144703.7504 - mean_squared_error: 144703.7504\n",
      "Epoch 37/50\n",
      "41544/41544 [==============================] - 1s 18us/step - loss: 144328.6444 - mean_squared_error: 144328.6444\n",
      "Epoch 38/50\n",
      "41544/41544 [==============================] - 1s 20us/step - loss: 144301.9175 - mean_squared_error: 144301.9175\n",
      "Epoch 39/50\n",
      "41544/41544 [==============================] - 1s 20us/step - loss: 144242.8012 - mean_squared_error: 144242.8012\n",
      "Epoch 40/50\n",
      "41544/41544 [==============================] - 1s 19us/step - loss: 144248.4475 - mean_squared_error: 144248.4475\n",
      "Epoch 41/50\n",
      "41544/41544 [==============================] - 1s 20us/step - loss: 144257.9377 - mean_squared_error: 144257.9377\n",
      "Epoch 42/50\n",
      "41544/41544 [==============================] - 1s 19us/step - loss: 144242.9718 - mean_squared_error: 144242.9718\n",
      "Epoch 43/50\n",
      "41544/41544 [==============================] - 1s 18us/step - loss: 144161.7685 - mean_squared_error: 144161.7685\n",
      "Epoch 44/50\n",
      "41544/41544 [==============================] - 1s 19us/step - loss: 144235.1074 - mean_squared_error: 144235.1074\n",
      "Epoch 45/50\n",
      "41544/41544 [==============================] - 1s 19us/step - loss: 144261.7084 - mean_squared_error: 144261.7084\n",
      "Epoch 46/50\n",
      "41544/41544 [==============================] - 1s 18us/step - loss: 144218.6599 - mean_squared_error: 144218.6599\n",
      "Epoch 47/50\n",
      "41544/41544 [==============================] - 1s 19us/step - loss: 144253.9803 - mean_squared_error: 144253.9803\n",
      "Epoch 48/50\n",
      "41544/41544 [==============================] - 1s 18us/step - loss: 144235.8620 - mean_squared_error: 144235.8620\n",
      "Epoch 49/50\n",
      "41544/41544 [==============================] - 1s 18us/step - loss: 144181.5521 - mean_squared_error: 144181.5521\n",
      "Epoch 50/50\n",
      "41544/41544 [==============================] - 1s 18us/step - loss: 144207.4422 - mean_squared_error: 144207.4422\n"
     ]
    },
    {
     "data": {
      "text/plain": [
       "<keras.callbacks.History at 0xfe59e9e8d0>"
      ]
     },
     "execution_count": 9,
     "metadata": {},
     "output_type": "execute_result"
    }
   ],
   "source": [
    "model.fit(X, y, epochs=50, batch_size=32)"
   ]
  },
  {
   "cell_type": "code",
   "execution_count": 10,
   "metadata": {},
   "outputs": [],
   "source": [
    "predictions = model.predict(X)"
   ]
  },
  {
   "cell_type": "code",
   "execution_count": 11,
   "metadata": {},
   "outputs": [
    {
     "data": {
      "text/plain": [
       "array([[2253.1091  ],\n",
       "       [ -25.444696],\n",
       "       [ 636.62714 ],\n",
       "       [4300.653   ],\n",
       "       [2037.578   ],\n",
       "       [ 852.15796 ],\n",
       "       [5486.0728  ],\n",
       "       [3761.8254  ],\n",
       "       [1175.4543  ],\n",
       "       [3330.764   ]], dtype=float32)"
      ]
     },
     "execution_count": 11,
     "metadata": {},
     "output_type": "execute_result"
    }
   ],
   "source": [
    "predictions[:10]"
   ]
  },
  {
   "cell_type": "code",
   "execution_count": 12,
   "metadata": {},
   "outputs": [
    {
     "data": {
      "text/plain": [
       "<matplotlib.collections.PathCollection at 0xfe5c4e5128>"
      ]
     },
     "execution_count": 12,
     "metadata": {},
     "output_type": "execute_result"
    },
    {
     "data": {
      "image/png": "[encoded data removed]",
      "text/plain": [
       "<matplotlib.figure.Figure at 0xfe5c482940>"
      ]
     },
     "metadata": {},
     "output_type": "display_data"
    }
   ],
   "source": [
    "plt.scatter(X[:100],y[:100])\n",
    "plt.scatter(X[:100], predictions[:100], color='green')"
   ]
  },
  {
   "cell_type": "code",
   "execution_count": null,
   "metadata": {},
   "outputs": [],
   "source": []
  },
  {
   "cell_type": "code",
   "execution_count": null,
   "metadata": {
    "collapsed": true
   },
   "outputs": [],
   "source": []
  }
 ],
 "metadata": {
  "anaconda-cloud": {},
  "kernelspec": {
   "display_name": "Python 3",
   "language": "python",
   "name": "python3"
  },
  "language_info": {
   "codemirror_mode": {
    "name": "ipython",
    "version": 3
   },
   "file_extension": ".py",
   "mimetype": "text/x-python",
   "name": "python",
   "nbconvert_exporter": "python",
   "pygments_lexer": "ipython3",
   "version": "3.6.4"
  }
 },
 "nbformat": 4,
 "nbformat_minor": 1
}
