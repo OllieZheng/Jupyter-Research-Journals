{
 "cells": [
  {
   "cell_type": "markdown",
   "metadata": {},
   "source": [
    "# WEEK 5\n",
    "Task| Task Description | Fin?\n",
    "--- | --- | ---\n",
    "**1**| Fine-tune the system until it reaches a more sensible approximation. | **/**\n",
    "**2**| Look for information about how to partition the data using TensorFlow, and train on training data and evaluate on the test data. Compare the results and let me know what are your conclusions. | **/**\n",
    "**3**| Do the same, but now with the classification task. | **x**"
   ]
  },
  {
   "cell_type": "code",
   "execution_count": 23,
   "metadata": {},
   "outputs": [],
   "source": [
    "# I want to disable TF's log spam as it camouflage's most of our precious output\n",
    "# I found this solution on StackOverflow\n",
    "import logging\n",
    "logging.getLogger('tensorflow').disabled = True"
   ]
  },
  {
   "cell_type": "code",
   "execution_count": 24,
   "metadata": {},
   "outputs": [
    {
     "data": {
      "text/plain": [
       "'1.6.0'"
      ]
     },
     "execution_count": 24,
     "metadata": {},
     "output_type": "execute_result"
    }
   ],
   "source": [
    "import tensorflow as tf\n",
    "from tensorflow.python.data import Dataset\n",
    "from sklearn import metrics \n",
    "\n",
    "import numpy as np\n",
    "import pandas as pd\n",
    "\n",
    "import math\n",
    "\n",
    "from IPython import display\n",
    "from matplotlib import cm, gridspec\n",
    "from matplotlib import pyplot as plt\n",
    "\n",
    "tf.__version__ \n",
    "# I managed to fix my tensorflow problem on my desktop,\n",
    "# Tensorflow isn't well supported by conda\n",
    "# I had to create a conda env and reinstall TF via the env using pip"
   ]
  },
  {
   "cell_type": "markdown",
   "metadata": {},
   "source": [
    "## Task 1\n",
    "**_Fine-tune the system (last week) until it reaches a more sensible approximation._**\n",
    "\n",
    "The following code is all from the previous week's journal."
   ]
  },
  {
   "cell_type": "code",
   "execution_count": 25,
   "metadata": {},
   "outputs": [],
   "source": [
    "df = pd.read_csv('data/Family Income and Expenditure.csv')\n",
    "\n",
    "import re\n",
    "\n",
    "if \"Total Food Expenditure\" in list(df):    \n",
    "    df = df.drop(\"Total Food Expenditure\", 1)\n",
    "reg = re.compile('.*(([Ee]xpenditure)|([Ee]xpenses))$')\n",
    "expenditure_types = [var for var in list(df) if re.match(reg, var)]\n",
    "df[\"TotalExpenditure\"] = np.sum(df[expenditure_types],1)\n",
    "\n",
    "reg_number = re.compile('Number.*')\n",
    "reg_house = re.compile('House .*')\n",
    "reg_type = re.compile('Type .*')\n",
    "\n",
    "remove = [var for var in list(df) if re.match(reg_number, var) \n",
    "                                  or re.match(reg_house, var) \n",
    "                                  or re.match(reg_type, var)]  + expenditure_types\n",
    "\n",
    "for var in remove:\n",
    "    if var in list(df):\n",
    "        df = df.drop(var, 1)\n",
    "\n",
    "df = df.rename(index=str, columns={var:(re.sub('[\\s+]', '', var))for var in list(df)})"
   ]
  },
  {
   "cell_type": "code",
   "execution_count": 4,
   "metadata": {},
   "outputs": [],
   "source": [
    "df = df.reindex(np.random.permutation(df.index))\n",
    "\n",
    "X = df[[\"HouseholdHeadAge\"]]\n",
    "X_attr = [tf.feature_column.numeric_column(\"HouseholdHeadAge\")]\n",
    "y = df[\"TotalExpenditure\"]"
   ]
  },
  {
   "cell_type": "code",
   "execution_count": null,
   "metadata": {},
   "outputs": [],
   "source": [
    "def input_fn_for_pt1(features, targets, batch_size=1, shuffle=True, num_epochs=None):\n",
    "    features = {key:np.array(value) for key,value in dict(features).items()}\n",
    "    \n",
    "    ds = Dataset.from_tensor_slices((features, targets))\n",
    "    ds = ds.batch(batch_size).repeat(num_epochs)\n",
    "    \n",
    "    if shuffle:\n",
    "        ds = ds.shuffle(buffer_size=10000)\n",
    "    \n",
    "    features, labels = ds.make_one_shot_iterator().get_next()\n",
    "    \n",
    "    return features, labels\n",
    "\n",
    "def train_model(learning_rate, steps, batch_size, input_feature=\"HouseholdHeadAge\"):\n",
    "    periods = 10\n",
    "    steps_per_period = steps / periods\n",
    "\n",
    "    my_feature = input_feature\n",
    "    my_feature_data = df[[my_feature]]\n",
    "    my_label = \"TotalExpenditure\"\n",
    "    targets = df[my_label]\n",
    "\n",
    "    # Create feature columns\n",
    "    feature_columns = [tf.feature_column.numeric_column(my_feature)]\n",
    "\n",
    "    # Create input functions\n",
    "    training_input_fn = lambda:input_fn_for_pt1(my_feature_data, targets, batch_size=batch_size)\n",
    "    prediction_input_fn = lambda: input_fn_for_pt1(my_feature_data, targets, num_epochs=1, shuffle=False)\n",
    "\n",
    "    # Create a linear regressor object.\n",
    "    my_optimizer = tf.train.GradientDescentOptimizer(learning_rate=learning_rate)\n",
    "    my_optimizer = tf.contrib.estimator.clip_gradients_by_norm(my_optimizer, 5.0)\n",
    "    linear_regressor = tf.estimator.LinearRegressor(\n",
    "      feature_columns=feature_columns,\n",
    "      optimizer=my_optimizer\n",
    "    )\n",
    "\n",
    "    # Set up to plot the state of our model's line each period.\n",
    "    plt.figure(figsize=(15, 6))\n",
    "    plt.subplot(1, 2, 1)\n",
    "    plt.title(\"Learned Line by Period\")\n",
    "    plt.ylabel(my_label)\n",
    "    plt.xlabel(my_feature)\n",
    "    sample = df.sample(n=300)\n",
    "    plt.scatter(sample[my_feature], sample[my_label])\n",
    "    colors = [cm.coolwarm(x) for x in np.linspace(-1, 1, periods)]\n",
    "\n",
    "    # Train the model, but do so inside a loop so that we can periodically assess\n",
    "    # loss metrics.\n",
    "    print(\"Training model...\")\n",
    "    print(\"RMSE (on training data):\")\n",
    "    root_mean_squared_errors = []\n",
    "    for period in range (0, periods):\n",
    "    # Train the model, starting from the prior state.\n",
    "    linear_regressor.train(\n",
    "        input_fn=training_input_fn,\n",
    "        steps=steps_per_period\n",
    "    )\n",
    "    # Take a break and compute predictions.\n",
    "    predictions = linear_regressor.predict(input_fn=prediction_input_fn)\n",
    "    predictions = np.array([item['predictions'][0] for item in predictions])\n",
    "\n",
    "    # Compute loss.\n",
    "    root_mean_squared_error = math.sqrt(\n",
    "        metrics.mean_squared_error(predictions, targets))\n",
    "    # Occasionally print the current loss.\n",
    "    print(\"  period %02d : %0.2f\" % (period, root_mean_squared_error))\n",
    "    # Add the loss metrics from this period to our list.\n",
    "    root_mean_squared_errors.append(root_mean_squared_error)\n",
    "    # Finally, track the weights and biases over time.\n",
    "    # Apply some math to ensure that the data and line are plotted neatly.\n",
    "    y_extents = np.array([0, sample[my_label].max()])\n",
    "\n",
    "    weight = linear_regressor.get_variable_value('linear/linear_model/%s/weights' % input_feature)[0]\n",
    "    bias = linear_regressor.get_variable_value('linear/linear_model/bias_weights')\n",
    "\n",
    "    x_extents = (y_extents - bias) / weight\n",
    "    x_extents = np.maximum(np.minimum(x_extents,\n",
    "                                      sample[my_feature].max()),\n",
    "                           sample[my_feature].min())\n",
    "    y_extents = weight * x_extents + bias\n",
    "    plt.plot(x_extents, y_extents, color=colors[period]) \n",
    "print(\"Model training finished.\")\n",
    "\n",
    "# Output a graph of loss metrics over periods.\n",
    "%matplotlib inline\n",
    "plt.subplot(1, 2, 2)\n",
    "plt.ylabel('RMSE')\n",
    "plt.xlabel('Periods')\n",
    "plt.title(\"Root Mean Squared Error vs. Periods\")\n",
    "plt.tight_layout()\n",
    "plt.plot(root_mean_squared_errors)\n",
    "\n",
    "# Output a table with calibration data.\n",
    "calibration_data = pd.DataFrame()\n",
    "calibration_data[\"predictions\"] = pd.Series(predictions)\n",
    "calibration_data[\"targets\"] = pd.Series(targets.values)\n",
    "display.display(calibration_data.describe())\n",
    "\n",
    "print(\"Final RMSE (on training data): %0.2f\" % root_mean_squared_error)"
   ]
  },
  {
   "cell_type": "code",
   "execution_count": null,
   "metadata": {},
   "outputs": [],
   "source": [
    "train_model(\n",
    "    learning_rate=70,\n",
    "    steps=100,\n",
    "    batch_size=1\n",
    ")"
   ]
  },
  {
   "cell_type": "markdown",
   "metadata": {},
   "source": [
    "It appears that our first learning rate of 0.000001 was way woefully inadequate compared to our current learning rate of 70.\n",
    "\n",
    "With our jumping RMSE and moving learned line. It looks like an optimal RMSE has been reached. "
   ]
  },
  {
   "cell_type": "markdown",
   "metadata": {},
   "source": [
    "## Task 2\n",
    "**_Partitioning data via TF_**\n",
    "\n",
    "It seems like we should use `tf.split()` to partition TF's data structures.\n",
    "\n",
    "`tf.split` returns a `Tensor` which is essentially TF's Vector. It seems to be designed to be very low-level and CPU efficient, where data accessing is as a result, inconvenient compared to vanilla Python.\n",
    "\n",
    "#### Applying this:"
   ]
  },
  {
   "cell_type": "code",
   "execution_count": 5,
   "metadata": {},
   "outputs": [],
   "source": [
    "# I'm splitting my data by 4:1, (train:test)\n",
    "split_sizes = {\n",
    "    \"train\":int(len(df)*0.8),\n",
    "    \"test\":math.ceil(len(df)*0.2),\n",
    "}\n",
    "train = dict()\n",
    "test = dict()\n",
    "train['X'], test['X'] = tf.split(X, \n",
    "                          [split_sizes[\"train\"], \n",
    "                           split_sizes[\"test\"]],\n",
    "                          0)\n",
    "\n",
    "X_attr = [tf.feature_column.numeric_column(\"HouseholdHeadAge\")]\n",
    "train['y'], test['y'] = tf.split(y, \n",
    "                          [split_sizes[\"train\"], \n",
    "                           split_sizes[\"test\"]],\n",
    "                          0)"
   ]
  },
  {
   "cell_type": "code",
   "execution_count": 6,
   "metadata": {
    "scrolled": false
   },
   "outputs": [],
   "source": [
    "optim = tf.train.GradientDescentOptimizer(learning_rate=100)\n",
    "optim = tf.contrib.estimator.clip_gradients_by_norm(optim, 5.0)\n",
    "lin_reg = tf.estimator.LinearRegressor(\n",
    "    feature_columns=X_attr,\n",
    "    optimizer=optim,\n",
    "    model_dir=\"TENSORTEMP\"\n",
    ")"
   ]
  },
  {
   "cell_type": "code",
   "execution_count": null,
   "metadata": {},
   "outputs": [],
   "source": [
    "def input_fn_pt2(X, X_name, y, batch_size=1, shuffle=True, num_epochs=None):    \n",
    "    ds = Dataset.from_tensor_slices(({X_name:X}, y))\n",
    "    ds = ds.batch(batch_size).repeat(num_epochs)\n",
    "    \n",
    "    if shuffle: ds = ds.shuffle(buffer_size=10000)\n",
    "    \n",
    "    return ds.make_one_shot_iterator().get_next()\n",
    "\n",
    "lin_reg.train(\n",
    "    lambda:input_fn_pt2(train['X'], 'HouseholdHeadAge', train['y']),\n",
    "    steps=100\n",
    ")"
   ]
  },
  {
   "cell_type": "code",
   "execution_count": 12,
   "metadata": {},
   "outputs": [],
   "source": [
    "y_pred = lin_reg.predict(\n",
    "    lambda:input_fn_pt2(test['X'], 'HouseholdHeadAge', test['y'], num_epochs=1, shuffle=False))\n",
    "y_pred_T = tf.convert_to_tensor([pred_row[\"predictions\"][0] for pred_row in y_pred], dtype=tf.float32)"
   ]
  },
  {
   "cell_type": "markdown",
   "metadata": {},
   "source": [
    "### Moment of Truth..."
   ]
  },
  {
   "cell_type": "code",
   "execution_count": 13,
   "metadata": {},
   "outputs": [
    {
     "data": {
      "text/plain": [
       "171400.84"
      ]
     },
     "execution_count": 13,
     "metadata": {},
     "output_type": "execute_result"
    }
   ],
   "source": [
    "rmse = tf.sqrt(tf.losses.mean_squared_error(test['y'], y_pred_T))\n",
    "\n",
    "sess = tf.InteractiveSession()\n",
    "tmp = tf.Print(rmse, [rmse])\n",
    "tmp.eval()"
   ]
  },
  {
   "cell_type": "markdown",
   "metadata": {},
   "source": [
    "This is a better RMSE than our previous RMSE strangely enough.\n",
    "\n",
    "We'll find the calibration data."
   ]
  },
  {
   "cell_type": "code",
   "execution_count": 14,
   "metadata": {},
   "outputs": [
    {
     "data": {
      "text/html": [
       "<div>\n",
       "<style scoped>\n",
       "    .dataframe tbody tr th:only-of-type {\n",
       "        vertical-align: middle;\n",
       "    }\n",
       "\n",
       "    .dataframe tbody tr th {\n",
       "        vertical-align: top;\n",
       "    }\n",
       "\n",
       "    .dataframe thead th {\n",
       "        text-align: right;\n",
       "    }\n",
       "</style>\n",
       "<table border=\"1\" class=\"dataframe\">\n",
       "  <thead>\n",
       "    <tr style=\"text-align: right;\">\n",
       "      <th></th>\n",
       "      <th>predictions</th>\n",
       "      <th>actual</th>\n",
       "    </tr>\n",
       "  </thead>\n",
       "  <tbody>\n",
       "    <tr>\n",
       "      <th>count</th>\n",
       "      <td>8309.000000</td>\n",
       "      <td>8.309000e+03</td>\n",
       "    </tr>\n",
       "    <tr>\n",
       "      <th>mean</th>\n",
       "      <td>205050.765625</td>\n",
       "      <td>1.978201e+05</td>\n",
       "    </tr>\n",
       "    <tr>\n",
       "      <th>std</th>\n",
       "      <td>56606.660156</td>\n",
       "      <td>1.659352e+05</td>\n",
       "    </tr>\n",
       "    <tr>\n",
       "      <th>min</th>\n",
       "      <td>60432.632812</td>\n",
       "      <td>1.122700e+04</td>\n",
       "    </tr>\n",
       "    <tr>\n",
       "      <th>25%</th>\n",
       "      <td>164036.078125</td>\n",
       "      <td>1.041350e+05</td>\n",
       "    </tr>\n",
       "    <tr>\n",
       "      <th>50%</th>\n",
       "      <td>203883.562500</td>\n",
       "      <td>1.562370e+05</td>\n",
       "    </tr>\n",
       "    <tr>\n",
       "      <th>75%</th>\n",
       "      <td>243731.031250</td>\n",
       "      <td>2.381750e+05</td>\n",
       "    </tr>\n",
       "    <tr>\n",
       "      <th>max</th>\n",
       "      <td>391166.687500</td>\n",
       "      <td>4.650633e+06</td>\n",
       "    </tr>\n",
       "  </tbody>\n",
       "</table>\n",
       "</div>"
      ],
      "text/plain": [
       "         predictions        actual\n",
       "count    8309.000000  8.309000e+03\n",
       "mean   205050.765625  1.978201e+05\n",
       "std     56606.660156  1.659352e+05\n",
       "min     60432.632812  1.122700e+04\n",
       "25%    164036.078125  1.041350e+05\n",
       "50%    203883.562500  1.562370e+05\n",
       "75%    243731.031250  2.381750e+05\n",
       "max    391166.687500  4.650633e+06"
      ]
     },
     "execution_count": 14,
     "metadata": {},
     "output_type": "execute_result"
    }
   ],
   "source": [
    "# T for Tensor and L for List\n",
    "y_pred_L = tf.Session().run(y_pred_T)\n",
    "y_test_L = tf.Session().run(test['y'])\n",
    "\n",
    "calib_data = pd.DataFrame()\n",
    "calib_data[\"predictions\"] = pd.Series(y_pred_L)\n",
    "calib_data[\"actual\"] = pd.Series(y_test_L)\n",
    "calib_data.describe()"
   ]
  },
  {
   "cell_type": "markdown",
   "metadata": {},
   "source": [
    "Overall, a quick shift through the descriptives show that our model is still very off."
   ]
  },
  {
   "cell_type": "code",
   "execution_count": 15,
   "metadata": {},
   "outputs": [
    {
     "data": {
      "image/png": "[encoded data removed]",
      "text/plain": [
       "<matplotlib.figure.Figure at 0x8f4606d2b0>"
      ]
     },
     "metadata": {},
     "output_type": "display_data"
    }
   ],
   "source": [
    "sample = df.sample(400)\n",
    "\n",
    "x_0 = sample[\"HouseholdHeadAge\"].min()\n",
    "x_1 = sample[\"HouseholdHeadAge\"].max()\n",
    "\n",
    "weight = lin_reg.get_variable_value(\"linear/linear_model/HouseholdHeadAge/weights\")[0]\n",
    "bias = lin_reg.get_variable_value(\"linear/linear_model/bias_weights\")\n",
    "\n",
    "y_0 = weight * x_0 + bias\n",
    "y_1 = weight * x_1 + bias\n",
    "\n",
    "plt.plot([x_0, x_1], [y_0, y_1], c='green')\n",
    "\n",
    "plt.title(\"Househole Head Age vs Total Household Expenditure\")\n",
    "plt.ylabel(\"Total Expenditure\")\n",
    "plt.xlabel(\"Household Head Ages\")\n",
    "\n",
    "plt.scatter(sample[\"HouseholdHeadAge\"], sample[\"TotalExpenditure\"])\n",
    "\n",
    "plt.show()"
   ]
  },
  {
   "cell_type": "markdown",
   "metadata": {},
   "source": [
    "And it produces a similar line to our last model, but from the sweat and tears of building this model, I now broadly understand the advantages of using TensorFlow.\n",
    "\n",
    "It's a low-level ML tool that allows the machine to purely process the data without being slowed down by the features humans need to process the information. "
   ]
  },
  {
   "cell_type": "markdown",
   "metadata": {},
   "source": [
    "## Task 3\n",
    "**_Classification Task with TF_** \n",
    "\n",
    "Initially, I started with directly importing the file in TF, with:\n",
    "\n",
    "```python\n",
    "f_name_q = tf.train.string_input_producer(['ks-projects-201612.csv'])\n",
    "\n",
    "reader = tf.TextLineReader()\n",
    "key, value = reader.read(f_name_q)\n",
    "col= dict()\n",
    "cols = {\"ID\":\"\", \"name\":\"\", \"category\":\"\", \"main_category\":\"\", \"currency\":\"\", \n",
    "             \"deadline\":\"\", \"goal\":\"\", \"launched\":\"\", \"pledged\":\"\", \"state\":\"\",\n",
    "             \"backers\":\"\", \"country\":\"\",\"usd_pledged\":\"\"}\n",
    "default = len(cols) * [[1]]\n",
    "_ = tf.decode_csv(\n",
    "    value, \n",
    "    record_defaults=default)\n",
    "\n",
    "i = 0\n",
    "for column in cols:\n",
    "    cols[column] = _[i]\n",
    "    i += 1\n",
    "    \n",
    "X = tf.stack([cols['main_category'], cols['goal'], \n",
    "              cols['pledged'], cols['country'], cols['backers']])\n",
    "X_attr = [tf.feature_column.numeric_column(X)]\n",
    "y = cols['state']\n",
    "```\n",
    "\n",
    "It worked as intended.\n",
    "\n",
    "However, this generated many problems, such as categorical variables being assigned as int64, which would be ok if types worked similarly to how it does in  C. However I also wanted to manipulate the data, such as subtracting the date types `deadline` from `launched` which would've been problematic. \n",
    "\n",
    "I feel like I need more experience before I jump onto this.\n",
    "\n",
    "So I'm using standard methods to import data."
   ]
  },
  {
   "cell_type": "code",
   "execution_count": null,
   "metadata": {},
   "outputs": [],
   "source": [
    "df = pd.read_csv('data/ks-projects-201612.csv')\n",
    "\"\"\"\n",
    "    PROBLEM:\n",
    "    My home data appears to be corrupted, utf-8 can't decode a value\n",
    "    I think it's because I accidentally opened it in Excel\n",
    "    and it prompted me to open it as a SYLK file\n",
    "    kaggle discussions seem to load this with no issues\n",
    "    \n",
    "    I can't download this again, because I have home internet issues \n",
    "    and I have to use phone data, \n",
    "    Instead, I'll load iris from sklearn\n",
    "\"\"\""
   ]
  },
  {
   "cell_type": "code",
   "execution_count": 56,
   "metadata": {},
   "outputs": [],
   "source": [
    "from sklearn import datasets as sk_ds\n",
    "meta = sk_ds.load_iris()\n",
    "\n",
    "# Making our feature names TF friendly\n",
    "meta['feature_names'] = [(re.sub('[\\s+]|(\\(cm\\))', '', name))\n",
    "                         for name in meta['feature_names']]\n",
    "\n",
    "# Listing down variable data types to convert into numpy Dataframe\n",
    "index = [i+1 for i in range(len(meta['data']))]\n",
    "df = pd.DataFrame(meta['data'], index=index, columns=meta['feature_names'])"
   ]
  },
  {
   "cell_type": "markdown",
   "metadata": {},
   "source": [
    "I just realised that `iris` doesn't have labels. We'll use TF to make these."
   ]
  },
  {
   "cell_type": "code",
   "execution_count": 76,
   "metadata": {},
   "outputs": [],
   "source": [
    "def input_fn_iris (): return tf.constant(df.as_matrix(), tf.float32, df.shape), None\n",
    "\n",
    "kmean = tf.contrib.learn.KMeansClustering(num_clusters=3, relative_tolerance=0.0001)\n",
    "_ = kmean.fit(input_fn=input_fn_iris)"
   ]
  },
  {
   "cell_type": "code",
   "execution_count": 77,
   "metadata": {},
   "outputs": [],
   "source": [
    "# Adding our cluster predictions to our dataframe\n",
    "df['species'] = list(kmean.predict_cluster_idx(input_fn=input_fn_iris))"
   ]
  },
  {
   "cell_type": "markdown",
   "metadata": {},
   "source": [
    "This will be a very very _crappy_ model, but hey Frankenstein started from somewhere right?\n",
    "\n",
    "### Creating a Classification model\n",
    "\n",
    "We'll use TF's `LinearClassifier` for this simple model.\n",
    "\n",
    "**UPDATE:** I initially tried using this:\n",
    "\n",
    "Which tried to use Tensors to train the data. It's wholely similar to the input function used in part 2, however, because there are multiple feature columns, something messed up, I'll put more research into it later."
   ]
  },
  {
   "cell_type": "code",
   "execution_count": 82,
   "metadata": {},
   "outputs": [],
   "source": [
    "# Shuffling our dataframe\n",
    "df = df.sample(frac=1)"
   ]
  },
  {
   "cell_type": "code",
   "execution_count": 195,
   "metadata": {},
   "outputs": [],
   "source": [
    "split_sizes = {\n",
    "    \"train\":int(len(df)*0.8),\n",
    "    \"test\":math.ceil(len(df)*0.2),\n",
    "}\n",
    "\n",
    "train = dict()\n",
    "test = dict()\n",
    "\n",
    "train['X'], test['X'] = tf.split(df.drop('species', 1),\n",
    "                                 [split_sizes[\"train\"],\n",
    "                                  split_sizes[\"test\"]],\n",
    "                                 0)\n",
    "\n",
    "train['y'], test['y'] = tf.split(df['species'],\n",
    "                                 [split_sizes[\"train\"],\n",
    "                                  split_sizes[\"test\"]],\n",
    "                                 0)"
   ]
  },
  {
   "cell_type": "code",
   "execution_count": 205,
   "metadata": {},
   "outputs": [
    {
     "ename": "ValueError",
     "evalue": "Fetch argument <tf.Tensor 'split_15:0' shape=(120, 4) dtype=float64> cannot be interpreted as a Tensor. (Tensor Tensor(\"split_15:0\", shape=(120, 4), dtype=float64) is not an element of this graph.)",
     "output_type": "error",
     "traceback": [
      "\u001b[1;31m---------------------------------------------------------------------------\u001b[0m",
      "\u001b[1;31mValueError\u001b[0m                                Traceback (most recent call last)",
      "\u001b[1;32mD:\\Anaconda3\\lib\\site-packages\\tensorflow\\python\\client\\session.py\u001b[0m in \u001b[0;36m__init__\u001b[1;34m(self, fetches, contraction_fn)\u001b[0m\n\u001b[0;32m    281\u001b[0m         self._unique_fetches.append(ops.get_default_graph().as_graph_element(\n\u001b[1;32m--> 282\u001b[1;33m             fetch, allow_tensor=True, allow_operation=True))\n\u001b[0m\u001b[0;32m    283\u001b[0m       \u001b[1;32mexcept\u001b[0m \u001b[0mTypeError\u001b[0m \u001b[1;32mas\u001b[0m \u001b[0me\u001b[0m\u001b[1;33m:\u001b[0m\u001b[1;33m\u001b[0m\u001b[0m\n",
      "\u001b[1;32mD:\\Anaconda3\\lib\\site-packages\\tensorflow\\python\\framework\\ops.py\u001b[0m in \u001b[0;36mas_graph_element\u001b[1;34m(self, obj, allow_tensor, allow_operation)\u001b[0m\n\u001b[0;32m   3458\u001b[0m     \u001b[1;32mwith\u001b[0m \u001b[0mself\u001b[0m\u001b[1;33m.\u001b[0m\u001b[0m_lock\u001b[0m\u001b[1;33m:\u001b[0m\u001b[1;33m\u001b[0m\u001b[0m\n\u001b[1;32m-> 3459\u001b[1;33m       \u001b[1;32mreturn\u001b[0m \u001b[0mself\u001b[0m\u001b[1;33m.\u001b[0m\u001b[0m_as_graph_element_locked\u001b[0m\u001b[1;33m(\u001b[0m\u001b[0mobj\u001b[0m\u001b[1;33m,\u001b[0m \u001b[0mallow_tensor\u001b[0m\u001b[1;33m,\u001b[0m \u001b[0mallow_operation\u001b[0m\u001b[1;33m)\u001b[0m\u001b[1;33m\u001b[0m\u001b[0m\n\u001b[0m\u001b[0;32m   3460\u001b[0m \u001b[1;33m\u001b[0m\u001b[0m\n",
      "\u001b[1;32mD:\\Anaconda3\\lib\\site-packages\\tensorflow\\python\\framework\\ops.py\u001b[0m in \u001b[0;36m_as_graph_element_locked\u001b[1;34m(self, obj, allow_tensor, allow_operation)\u001b[0m\n\u001b[0;32m   3537\u001b[0m       \u001b[1;32mif\u001b[0m \u001b[0mobj\u001b[0m\u001b[1;33m.\u001b[0m\u001b[0mgraph\u001b[0m \u001b[1;32mis\u001b[0m \u001b[1;32mnot\u001b[0m \u001b[0mself\u001b[0m\u001b[1;33m:\u001b[0m\u001b[1;33m\u001b[0m\u001b[0m\n\u001b[1;32m-> 3538\u001b[1;33m         \u001b[1;32mraise\u001b[0m \u001b[0mValueError\u001b[0m\u001b[1;33m(\u001b[0m\u001b[1;34m\"Tensor %s is not an element of this graph.\"\u001b[0m \u001b[1;33m%\u001b[0m \u001b[0mobj\u001b[0m\u001b[1;33m)\u001b[0m\u001b[1;33m\u001b[0m\u001b[0m\n\u001b[0m\u001b[0;32m   3539\u001b[0m       \u001b[1;32mreturn\u001b[0m \u001b[0mobj\u001b[0m\u001b[1;33m\u001b[0m\u001b[0m\n",
      "\u001b[1;31mValueError\u001b[0m: Tensor Tensor(\"split_15:0\", shape=(120, 4), dtype=float64) is not an element of this graph.",
      "\nDuring handling of the above exception, another exception occurred:\n",
      "\u001b[1;31mValueError\u001b[0m                                Traceback (most recent call last)",
      "\u001b[1;32m<ipython-input-205-80bbec7da073>\u001b[0m in \u001b[0;36m<module>\u001b[1;34m()\u001b[0m\n\u001b[0;32m     18\u001b[0m                                          \u001b[0mmeta\u001b[0m\u001b[1;33m[\u001b[0m\u001b[1;34m'feature_names'\u001b[0m\u001b[1;33m]\u001b[0m\u001b[1;33m,\u001b[0m\u001b[1;33m\u001b[0m\u001b[0m\n\u001b[0;32m     19\u001b[0m                                          train['y']), \n\u001b[1;32m---> 20\u001b[1;33m     \u001b[0msteps\u001b[0m \u001b[1;33m=\u001b[0m \u001b[1;36m100\u001b[0m\u001b[1;33m\u001b[0m\u001b[0m\n\u001b[0m\u001b[0;32m     21\u001b[0m )\n",
      "\u001b[1;32mD:\\Anaconda3\\lib\\site-packages\\tensorflow\\python\\estimator\\estimator.py\u001b[0m in \u001b[0;36mtrain\u001b[1;34m(self, input_fn, hooks, steps, max_steps, saving_listeners)\u001b[0m\n\u001b[0;32m    350\u001b[0m \u001b[1;33m\u001b[0m\u001b[0m\n\u001b[0;32m    351\u001b[0m     \u001b[0msaving_listeners\u001b[0m \u001b[1;33m=\u001b[0m \u001b[0m_check_listeners_type\u001b[0m\u001b[1;33m(\u001b[0m\u001b[0msaving_listeners\u001b[0m\u001b[1;33m)\u001b[0m\u001b[1;33m\u001b[0m\u001b[0m\n\u001b[1;32m--> 352\u001b[1;33m     \u001b[0mloss\u001b[0m \u001b[1;33m=\u001b[0m \u001b[0mself\u001b[0m\u001b[1;33m.\u001b[0m\u001b[0m_train_model\u001b[0m\u001b[1;33m(\u001b[0m\u001b[0minput_fn\u001b[0m\u001b[1;33m,\u001b[0m \u001b[0mhooks\u001b[0m\u001b[1;33m,\u001b[0m \u001b[0msaving_listeners\u001b[0m\u001b[1;33m)\u001b[0m\u001b[1;33m\u001b[0m\u001b[0m\n\u001b[0m\u001b[0;32m    353\u001b[0m     \u001b[0mlogging\u001b[0m\u001b[1;33m.\u001b[0m\u001b[0minfo\u001b[0m\u001b[1;33m(\u001b[0m\u001b[1;34m'Loss for final step: %s.'\u001b[0m\u001b[1;33m,\u001b[0m \u001b[0mloss\u001b[0m\u001b[1;33m)\u001b[0m\u001b[1;33m\u001b[0m\u001b[0m\n\u001b[0;32m    354\u001b[0m     \u001b[1;32mreturn\u001b[0m \u001b[0mself\u001b[0m\u001b[1;33m\u001b[0m\u001b[0m\n",
      "\u001b[1;32mD:\\Anaconda3\\lib\\site-packages\\tensorflow\\python\\estimator\\estimator.py\u001b[0m in \u001b[0;36m_train_model\u001b[1;34m(self, input_fn, hooks, saving_listeners)\u001b[0m\n\u001b[0;32m    807\u001b[0m       features, labels, input_hooks = (\n\u001b[0;32m    808\u001b[0m           self._get_features_and_labels_from_input_fn(\n\u001b[1;32m--> 809\u001b[1;33m               input_fn, model_fn_lib.ModeKeys.TRAIN))\n\u001b[0m\u001b[0;32m    810\u001b[0m       \u001b[0mworker_hooks\u001b[0m\u001b[1;33m.\u001b[0m\u001b[0mextend\u001b[0m\u001b[1;33m(\u001b[0m\u001b[0minput_hooks\u001b[0m\u001b[1;33m)\u001b[0m\u001b[1;33m\u001b[0m\u001b[0m\n\u001b[0;32m    811\u001b[0m       estimator_spec = self._call_model_fn(\n",
      "\u001b[1;32mD:\\Anaconda3\\lib\\site-packages\\tensorflow\\python\\estimator\\estimator.py\u001b[0m in \u001b[0;36m_get_features_and_labels_from_input_fn\u001b[1;34m(self, input_fn, mode)\u001b[0m\n\u001b[0;32m    666\u001b[0m   \u001b[1;32mdef\u001b[0m \u001b[0m_get_features_and_labels_from_input_fn\u001b[0m\u001b[1;33m(\u001b[0m\u001b[0mself\u001b[0m\u001b[1;33m,\u001b[0m \u001b[0minput_fn\u001b[0m\u001b[1;33m,\u001b[0m \u001b[0mmode\u001b[0m\u001b[1;33m)\u001b[0m\u001b[1;33m:\u001b[0m\u001b[1;33m\u001b[0m\u001b[0m\n\u001b[0;32m    667\u001b[0m     \u001b[1;34m\"\"\"Extracts the `features` and labels from return values of `input_fn`.\"\"\"\u001b[0m\u001b[1;33m\u001b[0m\u001b[0m\n\u001b[1;32m--> 668\u001b[1;33m     \u001b[0mresult\u001b[0m \u001b[1;33m=\u001b[0m \u001b[0mself\u001b[0m\u001b[1;33m.\u001b[0m\u001b[0m_call_input_fn\u001b[0m\u001b[1;33m(\u001b[0m\u001b[0minput_fn\u001b[0m\u001b[1;33m,\u001b[0m \u001b[0mmode\u001b[0m\u001b[1;33m)\u001b[0m\u001b[1;33m\u001b[0m\u001b[0m\n\u001b[0m\u001b[0;32m    669\u001b[0m     \u001b[0minput_hooks\u001b[0m \u001b[1;33m=\u001b[0m \u001b[1;33m[\u001b[0m\u001b[1;33m]\u001b[0m\u001b[1;33m\u001b[0m\u001b[0m\n\u001b[0;32m    670\u001b[0m     \u001b[1;32mif\u001b[0m \u001b[0misinstance\u001b[0m\u001b[1;33m(\u001b[0m\u001b[0mresult\u001b[0m\u001b[1;33m,\u001b[0m \u001b[0mdataset_ops\u001b[0m\u001b[1;33m.\u001b[0m\u001b[0mDataset\u001b[0m\u001b[1;33m)\u001b[0m\u001b[1;33m:\u001b[0m\u001b[1;33m\u001b[0m\u001b[0m\n",
      "\u001b[1;32mD:\\Anaconda3\\lib\\site-packages\\tensorflow\\python\\estimator\\estimator.py\u001b[0m in \u001b[0;36m_call_input_fn\u001b[1;34m(self, input_fn, mode)\u001b[0m\n\u001b[0;32m    758\u001b[0m       \u001b[0mkwargs\u001b[0m\u001b[1;33m[\u001b[0m\u001b[1;34m'config'\u001b[0m\u001b[1;33m]\u001b[0m \u001b[1;33m=\u001b[0m \u001b[0mself\u001b[0m\u001b[1;33m.\u001b[0m\u001b[0mconfig\u001b[0m\u001b[1;33m\u001b[0m\u001b[0m\n\u001b[0;32m    759\u001b[0m     \u001b[1;32mwith\u001b[0m \u001b[0mops\u001b[0m\u001b[1;33m.\u001b[0m\u001b[0mdevice\u001b[0m\u001b[1;33m(\u001b[0m\u001b[1;34m'/cpu:0'\u001b[0m\u001b[1;33m)\u001b[0m\u001b[1;33m:\u001b[0m\u001b[1;33m\u001b[0m\u001b[0m\n\u001b[1;32m--> 760\u001b[1;33m       \u001b[1;32mreturn\u001b[0m \u001b[0minput_fn\u001b[0m\u001b[1;33m(\u001b[0m\u001b[1;33m**\u001b[0m\u001b[0mkwargs\u001b[0m\u001b[1;33m)\u001b[0m\u001b[1;33m\u001b[0m\u001b[0m\n\u001b[0m\u001b[0;32m    761\u001b[0m \u001b[1;33m\u001b[0m\u001b[0m\n\u001b[0;32m    762\u001b[0m   \u001b[1;32mdef\u001b[0m \u001b[0m_call_model_fn\u001b[0m\u001b[1;33m(\u001b[0m\u001b[0mself\u001b[0m\u001b[1;33m,\u001b[0m \u001b[0mfeatures\u001b[0m\u001b[1;33m,\u001b[0m \u001b[0mlabels\u001b[0m\u001b[1;33m,\u001b[0m \u001b[0mmode\u001b[0m\u001b[1;33m,\u001b[0m \u001b[0mconfig\u001b[0m\u001b[1;33m)\u001b[0m\u001b[1;33m:\u001b[0m\u001b[1;33m\u001b[0m\u001b[0m\n",
      "\u001b[1;32m<ipython-input-205-80bbec7da073>\u001b[0m in \u001b[0;36m<lambda>\u001b[1;34m()\u001b[0m\n\u001b[0;32m     17\u001b[0m     input_fn=lambda:input_fn_class_train(train['X'], \n\u001b[0;32m     18\u001b[0m                                          \u001b[0mmeta\u001b[0m\u001b[1;33m[\u001b[0m\u001b[1;34m'feature_names'\u001b[0m\u001b[1;33m]\u001b[0m\u001b[1;33m,\u001b[0m\u001b[1;33m\u001b[0m\u001b[0m\n\u001b[1;32m---> 19\u001b[1;33m                                          train['y']), \n\u001b[0m\u001b[0;32m     20\u001b[0m     \u001b[0msteps\u001b[0m \u001b[1;33m=\u001b[0m \u001b[1;36m100\u001b[0m\u001b[1;33m\u001b[0m\u001b[0m\n\u001b[0;32m     21\u001b[0m )\n",
      "\u001b[1;32m<ipython-input-205-80bbec7da073>\u001b[0m in \u001b[0;36minput_fn_class_train\u001b[1;34m(X, X_names, y, batch_size, shuffle, num_epochs)\u001b[0m\n\u001b[0;32m      6\u001b[0m \u001b[1;32mdef\u001b[0m \u001b[0minput_fn_class_train\u001b[0m \u001b[1;33m(\u001b[0m\u001b[0mX\u001b[0m\u001b[1;33m,\u001b[0m \u001b[0mX_names\u001b[0m\u001b[1;33m,\u001b[0m \u001b[0my\u001b[0m\u001b[1;33m,\u001b[0m \u001b[0mbatch_size\u001b[0m\u001b[1;33m=\u001b[0m\u001b[1;36m1\u001b[0m\u001b[1;33m,\u001b[0m \u001b[0mshuffle\u001b[0m\u001b[1;33m=\u001b[0m\u001b[1;32mTrue\u001b[0m\u001b[1;33m,\u001b[0m \u001b[0mnum_epochs\u001b[0m\u001b[1;33m=\u001b[0m\u001b[1;32mNone\u001b[0m\u001b[1;33m)\u001b[0m\u001b[1;33m:\u001b[0m\u001b[1;33m\u001b[0m\u001b[0m\n\u001b[0;32m      7\u001b[0m     X_dict = {X_names[i]:X[:,i] \n\u001b[1;32m----> 8\u001b[1;33m               for i in range(tf.Session().run(train['X']).shape[1])} # For multiple variables\n\u001b[0m\u001b[0;32m      9\u001b[0m     \u001b[0mds\u001b[0m \u001b[1;33m=\u001b[0m \u001b[0mDataset\u001b[0m\u001b[1;33m.\u001b[0m\u001b[0mfrom_tensor_slices\u001b[0m\u001b[1;33m(\u001b[0m\u001b[1;33m(\u001b[0m\u001b[0mX_dict\u001b[0m\u001b[1;33m,\u001b[0m \u001b[0my\u001b[0m\u001b[1;33m)\u001b[0m\u001b[1;33m)\u001b[0m\u001b[1;33m\u001b[0m\u001b[0m\n\u001b[0;32m     10\u001b[0m     \u001b[0mds\u001b[0m \u001b[1;33m=\u001b[0m \u001b[0mds\u001b[0m\u001b[1;33m.\u001b[0m\u001b[0mbatch\u001b[0m\u001b[1;33m(\u001b[0m\u001b[0mbatch_size\u001b[0m\u001b[1;33m)\u001b[0m\u001b[1;33m.\u001b[0m\u001b[0mrepeat\u001b[0m\u001b[1;33m(\u001b[0m\u001b[0mnum_epochs\u001b[0m\u001b[1;33m)\u001b[0m\u001b[1;33m\u001b[0m\u001b[0m\n",
      "\u001b[1;32mD:\\Anaconda3\\lib\\site-packages\\tensorflow\\python\\client\\session.py\u001b[0m in \u001b[0;36mrun\u001b[1;34m(self, fetches, feed_dict, options, run_metadata)\u001b[0m\n\u001b[0;32m    903\u001b[0m     \u001b[1;32mtry\u001b[0m\u001b[1;33m:\u001b[0m\u001b[1;33m\u001b[0m\u001b[0m\n\u001b[0;32m    904\u001b[0m       result = self._run(None, fetches, feed_dict, options_ptr,\n\u001b[1;32m--> 905\u001b[1;33m                          run_metadata_ptr)\n\u001b[0m\u001b[0;32m    906\u001b[0m       \u001b[1;32mif\u001b[0m \u001b[0mrun_metadata\u001b[0m\u001b[1;33m:\u001b[0m\u001b[1;33m\u001b[0m\u001b[0m\n\u001b[0;32m    907\u001b[0m         \u001b[0mproto_data\u001b[0m \u001b[1;33m=\u001b[0m \u001b[0mtf_session\u001b[0m\u001b[1;33m.\u001b[0m\u001b[0mTF_GetBuffer\u001b[0m\u001b[1;33m(\u001b[0m\u001b[0mrun_metadata_ptr\u001b[0m\u001b[1;33m)\u001b[0m\u001b[1;33m\u001b[0m\u001b[0m\n",
      "\u001b[1;32mD:\\Anaconda3\\lib\\site-packages\\tensorflow\\python\\client\\session.py\u001b[0m in \u001b[0;36m_run\u001b[1;34m(self, handle, fetches, feed_dict, options, run_metadata)\u001b[0m\n\u001b[0;32m   1120\u001b[0m     \u001b[1;31m# Create a fetch handler to take care of the structure of fetches.\u001b[0m\u001b[1;33m\u001b[0m\u001b[1;33m\u001b[0m\u001b[0m\n\u001b[0;32m   1121\u001b[0m     fetch_handler = _FetchHandler(\n\u001b[1;32m-> 1122\u001b[1;33m         self._graph, fetches, feed_dict_tensor, feed_handles=feed_handles)\n\u001b[0m\u001b[0;32m   1123\u001b[0m \u001b[1;33m\u001b[0m\u001b[0m\n\u001b[0;32m   1124\u001b[0m     \u001b[1;31m# Run request and get response.\u001b[0m\u001b[1;33m\u001b[0m\u001b[1;33m\u001b[0m\u001b[0m\n",
      "\u001b[1;32mD:\\Anaconda3\\lib\\site-packages\\tensorflow\\python\\client\\session.py\u001b[0m in \u001b[0;36m__init__\u001b[1;34m(self, graph, fetches, feeds, feed_handles)\u001b[0m\n\u001b[0;32m    425\u001b[0m     \"\"\"\n\u001b[0;32m    426\u001b[0m     \u001b[1;32mwith\u001b[0m \u001b[0mgraph\u001b[0m\u001b[1;33m.\u001b[0m\u001b[0mas_default\u001b[0m\u001b[1;33m(\u001b[0m\u001b[1;33m)\u001b[0m\u001b[1;33m:\u001b[0m\u001b[1;33m\u001b[0m\u001b[0m\n\u001b[1;32m--> 427\u001b[1;33m       \u001b[0mself\u001b[0m\u001b[1;33m.\u001b[0m\u001b[0m_fetch_mapper\u001b[0m \u001b[1;33m=\u001b[0m \u001b[0m_FetchMapper\u001b[0m\u001b[1;33m.\u001b[0m\u001b[0mfor_fetch\u001b[0m\u001b[1;33m(\u001b[0m\u001b[0mfetches\u001b[0m\u001b[1;33m)\u001b[0m\u001b[1;33m\u001b[0m\u001b[0m\n\u001b[0m\u001b[0;32m    428\u001b[0m     \u001b[0mself\u001b[0m\u001b[1;33m.\u001b[0m\u001b[0m_fetches\u001b[0m \u001b[1;33m=\u001b[0m \u001b[1;33m[\u001b[0m\u001b[1;33m]\u001b[0m\u001b[1;33m\u001b[0m\u001b[0m\n\u001b[0;32m    429\u001b[0m     \u001b[0mself\u001b[0m\u001b[1;33m.\u001b[0m\u001b[0m_targets\u001b[0m \u001b[1;33m=\u001b[0m \u001b[1;33m[\u001b[0m\u001b[1;33m]\u001b[0m\u001b[1;33m\u001b[0m\u001b[0m\n",
      "\u001b[1;32mD:\\Anaconda3\\lib\\site-packages\\tensorflow\\python\\client\\session.py\u001b[0m in \u001b[0;36mfor_fetch\u001b[1;34m(fetch)\u001b[0m\n\u001b[0;32m    251\u001b[0m         \u001b[1;32mif\u001b[0m \u001b[0misinstance\u001b[0m\u001b[1;33m(\u001b[0m\u001b[0mfetch\u001b[0m\u001b[1;33m,\u001b[0m \u001b[0mtensor_type\u001b[0m\u001b[1;33m)\u001b[0m\u001b[1;33m:\u001b[0m\u001b[1;33m\u001b[0m\u001b[0m\n\u001b[0;32m    252\u001b[0m           \u001b[0mfetches\u001b[0m\u001b[1;33m,\u001b[0m \u001b[0mcontraction_fn\u001b[0m \u001b[1;33m=\u001b[0m \u001b[0mfetch_fn\u001b[0m\u001b[1;33m(\u001b[0m\u001b[0mfetch\u001b[0m\u001b[1;33m)\u001b[0m\u001b[1;33m\u001b[0m\u001b[0m\n\u001b[1;32m--> 253\u001b[1;33m           \u001b[1;32mreturn\u001b[0m \u001b[0m_ElementFetchMapper\u001b[0m\u001b[1;33m(\u001b[0m\u001b[0mfetches\u001b[0m\u001b[1;33m,\u001b[0m \u001b[0mcontraction_fn\u001b[0m\u001b[1;33m)\u001b[0m\u001b[1;33m\u001b[0m\u001b[0m\n\u001b[0m\u001b[0;32m    254\u001b[0m     \u001b[1;31m# Did not find anything.\u001b[0m\u001b[1;33m\u001b[0m\u001b[1;33m\u001b[0m\u001b[0m\n\u001b[0;32m    255\u001b[0m     raise TypeError('Fetch argument %r has invalid type %r' % (fetch,\n",
      "\u001b[1;32mD:\\Anaconda3\\lib\\site-packages\\tensorflow\\python\\client\\session.py\u001b[0m in \u001b[0;36m__init__\u001b[1;34m(self, fetches, contraction_fn)\u001b[0m\n\u001b[0;32m    287\u001b[0m       \u001b[1;32mexcept\u001b[0m \u001b[0mValueError\u001b[0m \u001b[1;32mas\u001b[0m \u001b[0me\u001b[0m\u001b[1;33m:\u001b[0m\u001b[1;33m\u001b[0m\u001b[0m\n\u001b[0;32m    288\u001b[0m         raise ValueError('Fetch argument %r cannot be interpreted as a '\n\u001b[1;32m--> 289\u001b[1;33m                          'Tensor. (%s)' % (fetch, str(e)))\n\u001b[0m\u001b[0;32m    290\u001b[0m       \u001b[1;32mexcept\u001b[0m \u001b[0mKeyError\u001b[0m \u001b[1;32mas\u001b[0m \u001b[0me\u001b[0m\u001b[1;33m:\u001b[0m\u001b[1;33m\u001b[0m\u001b[0m\n\u001b[0;32m    291\u001b[0m         raise ValueError('Fetch argument %r cannot be interpreted as a '\n",
      "\u001b[1;31mValueError\u001b[0m: Fetch argument <tf.Tensor 'split_15:0' shape=(120, 4) dtype=float64> cannot be interpreted as a Tensor. (Tensor Tensor(\"split_15:0\", shape=(120, 4), dtype=float64) is not an element of this graph.)"
     ]
    }
   ],
   "source": [
    "lin_class = tf.estimator.LinearClassifier(\n",
    "    feature_columns=[tf.feature_column.numeric_column(col_name)\n",
    "                    for col_name in meta['feature_names']\n",
    "                    if col_name != \"species\"]\n",
    ")\n",
    "def input_fn_class_train (X, X_names, y, batch_size=1, shuffle=True, num_epochs=None):\n",
    "    X_dict = {X_names[i]:X[:,i] \n",
    "              for i in range(tf.Session().run(train['X']).shape[1])} # For multiple variables\n",
    "    ds = Dataset.from_tensor_slices((X_dict, y))\n",
    "    ds = ds.batch(batch_size).repeat(num_epochs)\n",
    "    if shuffle: ds = ds.shuffle(buffer_size=1000)\n",
    "\n",
    "    X_, y_ = ds.make_one_shot_iterator().get_next()\n",
    "    return X_, y_\n",
    "\n",
    "lin_class.train(\n",
    "    input_fn=lambda:input_fn_class_train(train['X'], \n",
    "                                         meta['feature_names'], \n",
    "                                         train['y']), \n",
    "    steps = 100\n",
    ")"
   ]
  },
  {
   "cell_type": "markdown",
   "metadata": {},
   "source": [
    "It appears that running as-is returns:\n",
    "\n",
    "```python\n",
    "ValueError: Fetch argument <tf.Tensor 'split_15:0' shape=(120, 4) dtype=float64> cannot be interpreted as a Tensor. (Tensor Tensor(\"split_15:0\", shape=(120, 4), dtype=float64) is not an element of this graph.)\n",
    "```\n",
    "\n",
    "The traceback doesn't give me enough information."
   ]
  }
 ],
 "metadata": {
  "kernelspec": {
   "display_name": "Python 3",
   "language": "python",
   "name": "python3"
  },
  "language_info": {
   "codemirror_mode": {
    "name": "ipython",
    "version": 3
   },
   "file_extension": ".py",
   "mimetype": "text/x-python",
   "name": "python",
   "nbconvert_exporter": "python",
   "pygments_lexer": "ipython3",
   "version": "3.6.4"
  }
 },
 "nbformat": 4,
 "nbformat_minor": 2
}
