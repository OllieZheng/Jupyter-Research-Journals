{
 "cells": [
  {
   "cell_type": "markdown",
   "metadata": {},
   "source": [
    "# Week 7\n",
    "\n",
    "***1.*** Plot an overlay with the output of the predictions using a synthetic set. Repeat the plot using several NN architectures and note the changes of the plot. Try these architectures: _Not Complete_\n",
    "\n",
    "> ***a.*** 1 hidden layer with just 1 neuron (it would probably produce two lines)  [Go to](#part1a)\n",
    "\n",
    "> ***b.*** 1 hidden layer with 2 neurons (it would probably produce three lines) [Go to](#part1b)\n",
    "\n",
    "> ***c.*** 1 hidden layer with 10 neurons [Go to](#part1c)\n",
    "\n",
    "> ***d.*** The best architecture you found using the previous experiments [Go to](#part1d) \n",
    "\n",
    "***2.*** Incorporate categorical data (on your request). [Go to](#part2) _Not Complete_\n",
    "\n",
    "***3.*** Bring some possible data sets for text classification. We can use them for the next sessions. [Go to](#part) \n",
    "\n",
    "***Problem reports***: [Go to](#bugs)"
   ]
  },
  {
   "cell_type": "code",
   "execution_count": 1,
   "metadata": {},
   "outputs": [
    {
     "name": "stderr",
     "output_type": "stream",
     "text": [
      "D:\\Anaconda3\\lib\\site-packages\\h5py\\__init__.py:36: FutureWarning: Conversion of the second argument of issubdtype from `float` to `np.floating` is deprecated. In future, it will be treated as `np.float64 == np.dtype(float).type`.\n",
      "  from ._conv import register_converters as _register_converters\n"
     ]
    }
   ],
   "source": [
    "import logging\n",
    "logging.getLogger('tensorflow').disabled = True\n",
    "\n",
    "import tensorflow as tf\n",
    "from tensorflow.python.data import Dataset\n",
    "from sklearn import metrics \n",
    "\n",
    "import numpy as np\n",
    "import pandas as pd\n",
    "\n",
    "import math\n",
    "\n",
    "from matplotlib import cm, gridspec\n",
    "from matplotlib import pyplot as plt"
   ]
  },
  {
   "cell_type": "markdown",
   "metadata": {},
   "source": [
    "<a id='part1a'></a>\n",
    "\n",
    "# Task 1\n",
    "\n",
    "### The set up"
   ]
  },
  {
   "cell_type": "code",
   "execution_count": 2,
   "metadata": {},
   "outputs": [],
   "source": [
    "%matplotlib inline\n",
    "df = pd.read_csv('data/Family Income and Expenditure.csv')\n",
    "\n",
    "import re\n",
    "\n",
    "if \"Total Food Expenditure\" in list(df):    \n",
    "    df = df.drop(\"Total Food Expenditure\", 1)\n",
    "reg = re.compile('.*(([Ee]xpenditure)|([Ee]xpenses))$')\n",
    "expenditure_types = [var for var in list(df) if re.match(reg, var)]\n",
    "df[\"TotalExpenditure\"] = np.sum(df[expenditure_types],1)\n",
    "\n",
    "reg_number = re.compile('Number.*')\n",
    "reg_house = re.compile('House .*')\n",
    "reg_type = re.compile('Type .*')\n",
    "\n",
    "remove = [var for var in list(df) if re.match(reg_number, var) \n",
    "                                  or re.match(reg_house, var) \n",
    "                                  or re.match(reg_type, var)]  + expenditure_types\n",
    "\n",
    "for var in remove:\n",
    "    if var in list(df):\n",
    "        df = df.drop(var, 1)\n",
    "\n",
    "df = df.rename(index=str, columns={var:(re.sub('[\\s+]', '', var))for var in list(df)})"
   ]
  },
  {
   "cell_type": "markdown",
   "metadata": {},
   "source": [
    "### Defining features and targets"
   ]
  },
  {
   "cell_type": "code",
   "execution_count": 3,
   "metadata": {},
   "outputs": [],
   "source": [
    "df = df.reindex(np.random.permutation(df.index))\n",
    "\n",
    "X = df[[\"HouseholdHeadAge\"]]\n",
    "X_attr = [tf.feature_column.numeric_column(\"HouseholdHeadAge\")]\n",
    "y = df[\"TotalExpenditure\"]"
   ]
  },
  {
   "cell_type": "markdown",
   "metadata": {},
   "source": [
    "### Splitting the data"
   ]
  },
  {
   "cell_type": "code",
   "execution_count": 4,
   "metadata": {},
   "outputs": [],
   "source": [
    "split_sizes = {\n",
    "    \"train\":int(len(df)*0.7),\n",
    "    \"dev\":math.ceil(len(df)*0.15),\n",
    "    \"test\":math.ceil(len(df)*0.15),\n",
    "}\n",
    "train = dict()\n",
    "dev = dict()\n",
    "test = dict()\n",
    "train['X'], dev['X'], test['X'] = tf.split(X, \n",
    "                          [split_sizes[\"train\"], \n",
    "                           split_sizes[\"dev\"],\n",
    "                           split_sizes[\"test\"]],\n",
    "                           0)\n",
    "\n",
    "train['y'], dev['y'], test['y'] = tf.split(y, \n",
    "                          [split_sizes[\"train\"], \n",
    "                           split_sizes[\"dev\"],\n",
    "                           split_sizes[\"test\"]],\n",
    "                           0)"
   ]
  },
  {
   "cell_type": "markdown",
   "metadata": {},
   "source": [
    "### Input Function"
   ]
  },
  {
   "cell_type": "code",
   "execution_count": 5,
   "metadata": {},
   "outputs": [],
   "source": [
    "def input_fn(X, X_name, y, batch_size=1, shuffle=True, num_epochs=None):    \n",
    "    ds = Dataset.from_tensor_slices(({X_name:X}, y))\n",
    "    ds = ds.batch(batch_size).repeat(num_epochs)\n",
    "    \n",
    "    if shuffle: ds = ds.shuffle(buffer_size=10000)\n",
    "    \n",
    "    return ds.make_one_shot_iterator().get_next()"
   ]
  },
  {
   "cell_type": "markdown",
   "metadata": {},
   "source": [
    "<a id='part1a'></a>\n",
    "*Here goes nothing...*\n",
    "## PART A\n",
    "#### Defining new sample\n",
    "_Which is just a range of integers from 10 to 90 inclusive._"
   ]
  },
  {
   "cell_type": "code",
   "execution_count": 6,
   "metadata": {},
   "outputs": [],
   "source": [
    "new_sample = np.arange(10,91)"
   ]
  },
  {
   "cell_type": "markdown",
   "metadata": {},
   "source": [
    "#### Defining input function"
   ]
  },
  {
   "cell_type": "code",
   "execution_count": 7,
   "metadata": {},
   "outputs": [],
   "source": [
    "pred_input_fn = tf.estimator.inputs.numpy_input_fn(\n",
    "    x={'HouseholdHeadAge': new_sample},\n",
    "    num_epochs=1,\n",
    "    shuffle=False\n",
    ")"
   ]
  },
  {
   "cell_type": "markdown",
   "metadata": {},
   "source": [
    "### 1 Layer, 1 Neuron"
   ]
  },
  {
   "cell_type": "code",
   "execution_count": 22,
   "metadata": {},
   "outputs": [
    {
     "data": {
      "text/plain": [
       "<tensorflow.python.estimator.canned.dnn.DNNRegressor at 0x52aa080668>"
      ]
     },
     "execution_count": 22,
     "metadata": {},
     "output_type": "execute_result"
    }
   ],
   "source": [
    "optim = tf.train.GradientDescentOptimizer(learning_rate=20)\n",
    "optim = tf.contrib.estimator.clip_gradients_by_norm(optim, 5.0)\n",
    "dnn_reg = tf.estimator.DNNRegressor(\n",
    "    feature_columns=X_attr,\n",
    "    optimizer=optim,\n",
    "    hidden_units = [10, 10]\n",
    ")\n",
    "\n",
    "dnn_reg.train(\n",
    "    lambda:input_fn(train['X'],'HouseholdHeadAge', train['y']),\n",
    "    steps=100\n",
    ")"
   ]
  },
  {
   "cell_type": "code",
   "execution_count": 25,
   "metadata": {},
   "outputs": [],
   "source": [
    "pred_generator = dnn_reg.predict(\n",
    "    input_fn=pred_input_fn\n",
    ")\n",
    "y_pred = np.array([p['predictions'][0] for p in pred_generator])"
   ]
  },
  {
   "cell_type": "markdown",
   "metadata": {},
   "source": [
    "**Bug encountered** \n",
    "\n",
    "[Goto report](#plotproblem) "
   ]
  },
  {
   "cell_type": "code",
   "execution_count": 29,
   "metadata": {},
   "outputs": [
    {
     "data": {
      "image/png": "[encoded data removed]",
      "text/plain": [
       "<matplotlib.figure.Figure at 0x52ac0b5be0>"
      ]
     },
     "metadata": {},
     "output_type": "display_data"
    }
   ],
   "source": [
    "sample = df.sample(400)\n",
    "\n",
    "x_0 = sample[\"HouseholdHeadAge\"].min()\n",
    "x_1 = sample[\"HouseholdHeadAge\"].max()\n",
    "\n",
    "plt.title(\"Househole Head Age vs Total Household Expenditure\")\n",
    "plt.ylabel(\"Total Expenditure\")\n",
    "plt.xlabel(\"Household Head Ages\")\n",
    "\n",
    "plt.plot(y_pred, color='green')\n",
    "plt.scatter(sample[\"HouseholdHeadAge\"], sample[\"TotalExpenditure\"])\n",
    "\n",
    "plt.show()"
   ]
  },
  {
   "cell_type": "markdown",
   "metadata": {},
   "source": [
    "<a id='part3'></a>\n",
    "# Part 3\n",
    "\n",
    "Some possible text classification data sets I have found are.\n",
    "\n",
    "- [TED Persuasion dataset](https://data.world/owentemple/text-and-content-features-of-most-persuasive-ted-talks):\n",
    "\n",
    "Looks very interesting for sentiment analysis. Features include amounts of people rating the TED Talk as persuasive, inspiring or unconvincing and normalised versions of those. It's a very robust dataset, but a lot of the Talks are missing transcripts.\n",
    "\n",
    "At only a shape of (2406, 188), it might be a very constricted dataset.\n",
    "\n",
    "[I found a better version of this dataset](https://www.kaggle.com/rounakbanik/ted-talks/data)\n",
    "\n",
    "- [Myer's Briggs and comments](https://www.kaggle.com/datasnaek/mbti-type/data)\n",
    "\n",
    "Features are only text data, and the user's personality type.\n",
    "\n",
    "- [Wine Review Data](https://www.kaggle.com/zynicide/wine-reviews/data)\n",
    "\n",
    "A very popular and standard dataset, but fairly powerful.\n",
    "\n",
    "- [Wordcloud of matches in a popular multiplayer game](https://www.kaggle.com/helloworldisenough/dota-2-allchat-wordcloud/data)\n",
    "\n",
    "Slightly less standard as a lot of different variables not just text may change the outcome of a game.\n",
    "\n",
    "- [News articles](https://www.kaggle.com/snapcrack/all-the-news/data)\n",
    "\n",
    "Only text and nothing else for predictive model creation."
   ]
  },
  {
   "cell_type": "markdown",
   "metadata": {},
   "source": [
    "<a id=\"bugs\"></a>\n",
    "<font color='red'>\n",
    "# Issues encountered\n",
    "</font>\n",
    "_all legacy code_\n",
    "\n",
    "\n",
    "### Issue 1\n",
    "_from Part 1_\n",
    "\n",
    "\"shows that to input into the neural network, we must:\n",
    "1. Start a session \n",
    "    - from what I see, it seems like the session is essentially like a `matplotlib` object\n",
    "2. Define a `feed_dict`, which is set up like this:\n",
    "    - { X_desc : Xi }\n",
    "    - Where:\n",
    "        - X_desc : desciptions of the predictor in `tf.placeholder` format\n",
    "            - From my understanding `tf.placeholder` is like a way to feed data to our graph\n",
    "        - Xi : our input, (numpy array's, lists etc.)\n",
    "3. Shove this all into Python as `tf.Session().run(pred_generator, feed_dict)`\n",
    "\n",
    "We need this to make the plots.\n",
    "\n",
    "[Found on Stanford's CS224d tute on TF](https://cs224d.stanford.edu/lectures/CS224d-Lecture7.pdf).\"\n",
    "\n",
    "**Code**\n",
    "```\n",
    "input1 = tf.placeholder(tf.float32)\n",
    "input2 = tf.placeholder(tf.float32)\n",
    "\n",
    "output_fn = tf.multiply(input1, input2)\n",
    "\n",
    "with tf.Session() as sess: \n",
    "    print(sess.run(output_fn, \n",
    "                   feed_dict={input1:[45], \n",
    "                              input2:[10]}))\n",
    "```\n",
    "**Resolution**\n",
    "\n",
    "TensorFlow `generator` type is not taken by `sess.run()`. Instead, must directly use `estimator.predict()`.\n",
    "\n",
    "<a id='plotproblem'></a>\n",
    "### Issue 2\n",
    "_from part 1_\n",
    "\n",
    "```python \n",
    ">>> optim = tf.train.GradientDescentOptimizer(learning_rate=20)\n",
    ">>> optim = tf.contrib.estimator.clip_gradients_by_norm(optim, 5.0)\n",
    ">>> dnn_reg = tf.estimator.DNNRegressor(\n",
    "        feature_columns=X_attr,\n",
    "        optimizer=optim,\n",
    "        hidden_units = [1]\n",
    ")\n",
    "\n",
    ">>> dnn_reg.train(\n",
    "        lambda:input_fn(train['X'], 'HouseholdHeadAge', train['y']),\n",
    "        steps=100\n",
    ")\n",
    "\n",
    ">>> pred_generator = dnn_reg.predict(\n",
    "        input_fn=pred_input_fn\n",
    ")\n",
    "\n",
    ">>> for p in pred_generator:\n",
    "        print(p)\n",
    "```\n",
    "Produces: \n",
    "```\n",
    "{'predictions': array([9801.488], dtype=float32)}\n",
    "{'predictions': array([9801.488], dtype=float32)}\n",
    "{'predictions': array([9801.488], dtype=float32)}\n",
    "...\n",
    "```\n",
    "\n",
    "**Debugging**\n",
    "```\n",
    "tf.Session().run(tf.Print(train['X'], [train['X']]))\n",
    "```\n",
    "\n",
    "Produces:\n",
    "```\n",
    "array([[58],\n",
    "       [69],\n",
    "       [53],\n",
    "       ...,\n",
    "       [59],\n",
    "       [52],\n",
    "       [60]], dtype=int64)\n",
    "```\n",
    "\n",
    "With also expected values from `train['y']`, so it can't be due to the splitting.\n",
    "\n",
    "**Resolution**\n",
    "\n",
    "Comparing it with last weeks code.\n",
    "\n",
    "Printing out the same prediction yield almost identical results and still give a valid result, which means that either I'm miss understanding how `.predict()` works, or it's a bug by TF.\n",
    "\n",
    "One further research, from last week, our values were also invalid as:\n",
    "\n",
    "![](screenshots/Week7Part1Bug.jpg)\n",
    "\n",
    "\n",
    "### Issue 3\n",
    "_from Part 1_\n",
    "\n",
    "**EDIT:** In the beginning, I used this:\n",
    "\n",
    "```python\n",
    "def input_fn_pred(X, labels=None, batch_size=1):\n",
    "    if labels == None:    inputs = X\n",
    "    else:    inputs = (X, labels)\n",
    "        \n",
    "    dataset = tf.data.Dataset.from_tensor_slices(inputs)\n",
    "    \n",
    "    dataset = dataset.batch(batch_size)\n",
    "    \n",
    "    return dataset.make_one_shot_iterator().get_next()\n",
    "```\n",
    "\n",
    "**Resolution** \n",
    "\n",
    "But it always returned, one singular value whenever I passed a list or a `np.array` into it.\n",
    "\n",
    "So I decided to jump to using `tf.estimator.inputs.numpy_input_fn`, and there hasn't been any input_fn problems.\n"
   ]
  }
 ],
 "metadata": {
  "kernelspec": {
   "display_name": "Python 3",
   "language": "python",
   "name": "python3"
  },
  "language_info": {
   "codemirror_mode": {
    "name": "ipython",
    "version": 3
   },
   "file_extension": ".py",
   "mimetype": "text/x-python",
   "name": "python",
   "nbconvert_exporter": "python",
   "pygments_lexer": "ipython3",
   "version": "3.6.4"
  }
 },
 "nbformat": 4,
 "nbformat_minor": 2
}
