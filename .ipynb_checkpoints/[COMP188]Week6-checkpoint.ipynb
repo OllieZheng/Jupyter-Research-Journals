{
 "cells": [
  {
   "cell_type": "markdown",
   "metadata": {},
   "source": [
    "# Week 6\n",
    "\n",
    "***Task*** | ***Description*** | ***Jump there*** |***Done?***\n",
    "--- | --- | --- | ---\n",
    "***1 )*** | In the regression task, partition the data into train, devtest, and test, and find the optimal parameters when using the devtest set. Then, evaluate using the train, devtest, and test, and compare the results. |[Go to](#part1)| /\n",
    "***2 )*** |Do the same with the classification task. |[Go to original](#part2)/[Go to iris](#part2iris)| /\n",
    "***3 )*** |Repeat 1 and 2, but now using neural network versions. |[Go to NN reg](#part3)/[Go to NN class](#part3class)| x\n",
    "\n",
    "_Ollie's remark: Some very bad code towards the end_"
   ]
  },
  {
   "cell_type": "code",
   "execution_count": 2,
   "metadata": {},
   "outputs": [
    {
     "name": "stderr",
     "output_type": "stream",
     "text": [
      "D:\\Anaconda3\\lib\\site-packages\\h5py\\__init__.py:36: FutureWarning: Conversion of the second argument of issubdtype from `float` to `np.floating` is deprecated. In future, it will be treated as `np.float64 == np.dtype(float).type`.\n",
      "  from ._conv import register_converters as _register_converters\n"
     ]
    },
    {
     "data": {
      "text/plain": [
       "'1.6.0'"
      ]
     },
     "execution_count": 2,
     "metadata": {},
     "output_type": "execute_result"
    }
   ],
   "source": [
    "import logging\n",
    "logging.getLogger('tensorflow').disabled = True\n",
    "\n",
    "import tensorflow as tf\n",
    "from tensorflow.python.data import Dataset\n",
    "from sklearn import metrics \n",
    "\n",
    "import numpy as np\n",
    "import pandas as pd\n",
    "\n",
    "import math\n",
    "\n",
    "from IPython import display\n",
    "from matplotlib import cm, gridspec\n",
    "from matplotlib import pyplot as plt\n",
    "\n",
    "tf.__version__ "
   ]
  },
  {
   "cell_type": "markdown",
   "metadata": {},
   "source": [
    "<a id='part1'></a>\n",
    "## Task 1\n",
    "\n",
    "We'll start off with...\n",
    "### Opening and cleaning our data"
   ]
  },
  {
   "cell_type": "code",
   "execution_count": 36,
   "metadata": {},
   "outputs": [],
   "source": [
    "df = pd.read_csv('../data/Family Income and Expenditure.csv')\n",
    "\n",
    "import re\n",
    "\n",
    "if \"Total Food Expenditure\" in list(df):    \n",
    "    df = df.drop(\"Total Food Expenditure\", 1)\n",
    "reg = re.compile('.*(([Ee]xpenditure)|([Ee]xpenses))$')\n",
    "expenditure_types = [var for var in list(df) if re.match(reg, var)]\n",
    "df[\"TotalExpenditure\"] = np.sum(df[expenditure_types],1)\n",
    "\n",
    "reg_number = re.compile('Number.*')\n",
    "reg_house = re.compile('House .*')\n",
    "reg_type = re.compile('Type .*')\n",
    "\n",
    "remove = [var for var in list(df) if re.match(reg_number, var) \n",
    "                                  or re.match(reg_house, var) \n",
    "                                  or re.match(reg_type, var)]  + expenditure_types\n",
    "\n",
    "for var in remove:\n",
    "    if var in list(df):\n",
    "        df = df.drop(var, 1)\n",
    "\n",
    "df = df.rename(index=str, columns={var:(re.sub('[\\s+]', '', var))for var in list(df)})"
   ]
  },
  {
   "cell_type": "markdown",
   "metadata": {},
   "source": [
    "### Listing features and targets"
   ]
  },
  {
   "cell_type": "code",
   "execution_count": 37,
   "metadata": {},
   "outputs": [],
   "source": [
    "df = df.reindex(np.random.permutation(df.index))\n",
    "\n",
    "X = df[[\"HouseholdHeadAge\"]]\n",
    "X_attr = [tf.feature_column.numeric_column(\"HouseholdHeadAge\")]\n",
    "y = df[\"TotalExpenditure\"]"
   ]
  },
  {
   "cell_type": "markdown",
   "metadata": {},
   "source": [
    "### Configuring an optimiser and input function"
   ]
  },
  {
   "cell_type": "code",
   "execution_count": 38,
   "metadata": {},
   "outputs": [],
   "source": [
    "optim = tf.train.GradientDescentOptimizer(learning_rate=20)\n",
    "optim = tf.contrib.estimator.clip_gradients_by_norm(optim, 5.0)\n",
    "lin_reg = tf.estimator.LinearRegressor(\n",
    "    feature_columns=X_attr,\n",
    "    optimizer=optim\n",
    ")"
   ]
  },
  {
   "cell_type": "code",
   "execution_count": 39,
   "metadata": {},
   "outputs": [],
   "source": [
    "def input_fn(X, X_name, y, batch_size=1, shuffle=True, num_epochs=None):    \n",
    "    ds = Dataset.from_tensor_slices(({X_name:X}, y))\n",
    "    ds = ds.batch(batch_size).repeat(num_epochs)\n",
    "    \n",
    "    if shuffle: ds = ds.shuffle(buffer_size=10000)\n",
    "    \n",
    "    return ds.make_one_shot_iterator().get_next()"
   ]
  },
  {
   "cell_type": "markdown",
   "metadata": {},
   "source": [
    "### Splitting the data"
   ]
  },
  {
   "cell_type": "code",
   "execution_count": 40,
   "metadata": {},
   "outputs": [],
   "source": [
    "# I'm splitting my data by 50:25:25, (train:devtest:test)\n",
    "split_sizes = {\n",
    "    \"train\":int(len(df)*0.5),\n",
    "    \"dev\":math.ceil(len(df)*0.25),\n",
    "    \"test\":math.ceil(len(df)*0.25),\n",
    "}\n",
    "train = dict()\n",
    "dev = dict()\n",
    "test = dict()\n",
    "train['X'], dev['X'], test['X'] = tf.split(X, \n",
    "                          [split_sizes[\"train\"], \n",
    "                           split_sizes[\"dev\"],\n",
    "                           split_sizes[\"test\"]],\n",
    "                          0)\n",
    "X_attr = [tf.feature_column.numeric_column(\"HouseholdHeadAge\")]\n",
    "\n",
    "train['y'], dev['y'], test['y'] = tf.split(y, \n",
    "                          [split_sizes[\"train\"], \n",
    "                           split_sizes[\"dev\"],\n",
    "                           split_sizes[\"test\"]],\n",
    "                          0)"
   ]
  },
  {
   "cell_type": "markdown",
   "metadata": {},
   "source": [
    "### Training the model and trying it on the dev set"
   ]
  },
  {
   "cell_type": "code",
   "execution_count": 41,
   "metadata": {},
   "outputs": [],
   "source": [
    "lin_reg.train(\n",
    "    lambda:input_fn(train['X'], 'HouseholdHeadAge', train['y']),\n",
    "    steps=100\n",
    ")\n",
    "\n",
    "y_pred = lin_reg.predict(\n",
    "    lambda:input_fn(train['X'], 'HouseholdHeadAge', train['y'], num_epochs=1, shuffle=False))\n",
    "y_pred_T = tf.convert_to_tensor([pred_row[\"predictions\"][0] for pred_row in y_pred], dtype=tf.float32)"
   ]
  },
  {
   "cell_type": "markdown",
   "metadata": {},
   "source": [
    "### RMSE of the sets"
   ]
  },
  {
   "cell_type": "markdown",
   "metadata": {},
   "source": [
    "***Train***"
   ]
  },
  {
   "cell_type": "code",
   "execution_count": 42,
   "metadata": {},
   "outputs": [],
   "source": [
    "rmse_ = tf.sqrt(tf.losses.mean_squared_error(train['y'], y_pred_T))\n",
    "\n",
    "sess = tf.InteractiveSession()\n",
    "tmp = tf.Print(rmse_, [rmse_])\n",
    "rmse = dict()\n",
    "rmse['train'] = tmp.eval()"
   ]
  },
  {
   "cell_type": "markdown",
   "metadata": {},
   "source": [
    "***Dev***"
   ]
  },
  {
   "cell_type": "code",
   "execution_count": 43,
   "metadata": {},
   "outputs": [],
   "source": [
    "y_pred = lin_reg.predict(\n",
    "    lambda:input_fn(dev['X'], 'HouseholdHeadAge', dev['y'], num_epochs=1, shuffle=False))\n",
    "y_pred_T = tf.convert_to_tensor([pred_row[\"predictions\"][0] for pred_row in y_pred], dtype=tf.float32)\n",
    "\n",
    "rmse_ = tf.sqrt(tf.losses.mean_squared_error(dev['y'], y_pred_T))\n",
    "\n",
    "sess = tf.InteractiveSession()\n",
    "tmp = tf.Print(rmse_, [rmse_])\n",
    "rmse['dev'] = tmp.eval()"
   ]
  },
  {
   "cell_type": "markdown",
   "metadata": {},
   "source": [
    "### Final evaluation:"
   ]
  },
  {
   "cell_type": "code",
   "execution_count": 44,
   "metadata": {},
   "outputs": [
    {
     "name": "stdout",
     "output_type": "stream",
     "text": [
      "train's RMSE:\t167796\n",
      "dev's RMSE:\t158220\n"
     ]
    }
   ],
   "source": [
    "for key in rmse.keys():\n",
    "    print(\"%s's RMSE:\\t%0.0f\" %(key, rmse[key]))"
   ]
  },
  {
   "cell_type": "markdown",
   "metadata": {},
   "source": [
    "At a 0.7:0.15:0.15 split 100 learning rate, I got the results:\n",
    "```\n",
    "train's RMSE:\t162734\n",
    "dev's RMSE:\t146228\n",
    "```\n",
    "Yet at 0.5:0.25:0.25 split 20 learning rate, I fared better at:\n",
    "```\n",
    "train's RMSE:\t168519\n",
    "dev's RMSE:\t156777\n",
    "```\n",
    "\n",
    "Upon reshuffling, and using the last split and learning rate:\n",
    "\n",
    "```\n",
    "train's RMSE:\t163539\n",
    "dev's RMSE:\t162237\n",
    "```\n",
    "\n",
    "Let's...\n",
    "\n",
    "### Check the graph."
   ]
  },
  {
   "cell_type": "code",
   "execution_count": 45,
   "metadata": {},
   "outputs": [
    {
     "data": {
      "image/png": "[encoded data removed]",
      "text/plain": [
       "<matplotlib.figure.Figure at 0x5688cc3ef0>"
      ]
     },
     "metadata": {},
     "output_type": "display_data"
    }
   ],
   "source": [
    "sample = df.sample(400)\n",
    "\n",
    "x_0 = sample[\"HouseholdHeadAge\"].min()\n",
    "x_1 = sample[\"HouseholdHeadAge\"].max()\n",
    "\n",
    "weight = lin_reg.get_variable_value(\"linear/linear_model/HouseholdHeadAge/weights\")[0]\n",
    "bias = lin_reg.get_variable_value(\"linear/linear_model/bias_weights\")\n",
    "\n",
    "y_0 = weight * x_0 + bias\n",
    "y_1 = weight * x_1 + bias\n",
    "\n",
    "plt.plot([x_0, x_1], [y_0, y_1], c='green')\n",
    "\n",
    "plt.title(\"Househole Head Age vs Total Household Expenditure\")\n",
    "plt.ylabel(\"Total Expenditure\")\n",
    "plt.xlabel(\"Household Head Ages\")\n",
    "\n",
    "plt.scatter(sample[\"HouseholdHeadAge\"], sample[\"TotalExpenditure\"])\n",
    "\n",
    "plt.show()"
   ]
  },
  {
   "cell_type": "markdown",
   "metadata": {},
   "source": [
    "It's still very similar to our graph last week, expectedly, as we changed nothing except just splitting the data to include a validation set.\n",
    "\n",
    "### Test set"
   ]
  },
  {
   "cell_type": "code",
   "execution_count": 47,
   "metadata": {},
   "outputs": [
    {
     "name": "stdout",
     "output_type": "stream",
     "text": [
      "train's RMSE:\t167796\n",
      "dev's RMSE:\t158220\n",
      "test's RMSE:\t165114\n"
     ]
    }
   ],
   "source": [
    "y_pred = lin_reg.predict(\n",
    "    lambda:input_fn(test['X'], 'HouseholdHeadAge', test['y'], num_epochs=1, shuffle=False))\n",
    "y_pred_T = tf.convert_to_tensor([pred_row[\"predictions\"][0] for pred_row in y_pred], dtype=tf.float32)\n",
    "\n",
    "rmse_ = tf.sqrt(tf.losses.mean_squared_error(test['y'], y_pred_T))\n",
    "\n",
    "sess = tf.InteractiveSession()\n",
    "tmp = tf.Print(rmse_, [rmse_])\n",
    "rmse['test'] = tmp.eval()\n",
    "\n",
    "for key in rmse.keys():\n",
    "    print(\"%s's RMSE:\\t%0.0f\" %(key, rmse[key]))"
   ]
  },
  {
   "cell_type": "markdown",
   "metadata": {},
   "source": [
    "At a 0.7:0.15:0.15 split 100 learning rate, I got the results:\n",
    "```\n",
    "train's RMSE:\t162734\n",
    "dev's RMSE:\t146228\n",
    "test's RMSE:\t170758\n",
    "```\n",
    "Yet at 0.5:0.25:0.25 split 20 learning rate, I fared better at:\n",
    "```\n",
    "train's RMSE:\t168519\n",
    "dev's RMSE:\t156777\n",
    "test's RMSE:\t165017\n",
    "```\n",
    "\n",
    "It's almost very rare that our test data is performing better than our training. Upon reshuffling, and using the last split:\n",
    "\n",
    "```\n",
    "train's RMSE:\t163539\n",
    "dev's RMSE:\t162237\n",
    "test's RMSE:\t158525\n",
    "```\n",
    "\n",
    "Our test data still performs better than our training."
   ]
  },
  {
   "cell_type": "markdown",
   "metadata": {},
   "source": [
    "<a id='part2'></a>\n",
    "## Task 2\n",
    "\n",
    "***FUTURE NOTE: I ended up using the iris dataset, [click here to jump there](#part2iris)***\n",
    "\n",
    "I'm going to start with importing the data directly to TensorFlow, it's a rather large dataset, so using TF would be more efficient.\n",
    "\n",
    "We're going to use multiple variables which will be specified in the code below.\n",
    "\n",
    "I did want to use `import datetime` to calculate the time difference between start date and deadline (as it might be a powerfully predictive feature), however TF makes data manipulation very difficult so I'll keep it simple for now."
   ]
  },
  {
   "cell_type": "markdown",
   "metadata": {},
   "source": [
    "***Update:*** I found out that the kaggle data has invalid utf-8 values in the `name` category, I tried editing the file like so..."
   ]
  },
  {
   "cell_type": "code",
   "execution_count": null,
   "metadata": {},
   "outputs": [],
   "source": [
    "import re\n",
    "                  # I'm using an absolute path because I'm sharing this notebook via Dropbox, \n",
    "                  # and Dropbox will kick a fit if I exceed their limit\n",
    "f_original = open('../data/ks-projects-201612.csv', 'r')\n",
    "f_edit = open('../data/ks-projects-201612v2.csv', 'w+')\n",
    "for row in f_original:\n",
    "                        # Not any normal recognised char or (, )\n",
    "    f_edit.write(re.sub(r'[^A-Za-z0-9\\n ,.!?\\'+-]|(, )', '', row))\n",
    "\n",
    "f_original.close()\n",
    "f_edit.close()"
   ]
  },
  {
   "cell_type": "markdown",
   "metadata": {},
   "source": [
    "Yet `pandas` gave me...\n",
    "\n",
    "```python\n",
    "ParserError: Error tokenizing data. C error: Expected 17 fields in line 31, saw 18\n",
    "```\n",
    "whenever I wanted to read the `.csv`, but on inspection in Excel and in SublimeText, it didn't look like such a problem existed.\n",
    "\n",
    "![picture](\"https://www.dropbox.com/s/jw4eq9vq54naoom/excel.JPG?dl=0\")"
   ]
  },
  {
   "cell_type": "code",
   "execution_count": null,
   "metadata": {},
   "outputs": [],
   "source": [
    "df = pd.read_csv('../data/ks-projects-201612v2.csv', error_bad_lines=False)"
   ]
  },
  {
   "cell_type": "markdown",
   "metadata": {},
   "source": [
    "On further further research, it seems like TensorFlow has little capability to solve `ParseError`s like this, so I'll save my original method to extract the `.csv` as Tensors as _\"Legacy Code\"_ and use `pandas` to extract my `.csv` data whilst ignoring `ParseError`s.\n",
    "\n",
    "***\"Legacy Code\"***\n",
    "```python\n",
    "f_name_q = tf.train.string_input_producer(['../data/ks-projects-201612.csv'])\n",
    "\n",
    "reader = tf.TextLineReader()\n",
    "key, value = reader.read(f_name_q)\n",
    "\n",
    "# Have feature labels as a dictionary\n",
    "col= dict()\n",
    "cols = {\"ID\":\"\", \"name\":\"\", \"category\":\"\", \"main_category\":\"\", \"currency\":\"\", \n",
    "             \"deadline\":\"\", \"goal\":\"\", \"launched\":\"\", \"pledged\":\"\", \"state\":\"\",\n",
    "             \"backers\":\"\", \"country\":\"\",\"usd_pledged\":\"\"}\n",
    "default = len(cols) * [[1]]\n",
    "\n",
    "_ = tf.decode_csv(\n",
    "    value, \n",
    "    record_defaults=default # If a feature label isn't specified, use `default` instead\n",
    ")\n",
    "\n",
    "tf.random_shuffle(_)\n",
    "\n",
    "# Assigns column names to data\n",
    "i = 0\n",
    "for column_name in cols:\n",
    "    cols[column_name] = _[i]\n",
    "    i += 1\n",
    "X = tf.stack([cols['main_category'], \n",
    "              cols['goal'], \n",
    "              cols['pledged'], \n",
    "              cols['country'], \n",
    "              cols['backers']])\n",
    "X_attr = [\n",
    "    tf.feature_column.categorical_column_with_identity('main_category',\n",
    "                                                      num_buckets=1000),\n",
    "    tf.feature_column.numeric_column('goal'),\n",
    "    tf.feature_column.numeric_column('pledged'),\n",
    "    tf.feature_column.categorical_column_with_identity('country',\n",
    "                                                      num_buckets=300),\n",
    "    tf.feature_column.numeric_column('backers')\n",
    "]\n",
    "y = cols['state']\n",
    "```\n",
    "\n",
    "It's a shame too, because it looks like we are losing a lot of valuable data.\n",
    "\n",
    "Nevertheless, we'll take a look at the data..."
   ]
  },
  {
   "cell_type": "code",
   "execution_count": null,
   "metadata": {},
   "outputs": [],
   "source": [
    "df.head(1)"
   ]
  },
  {
   "cell_type": "markdown",
   "metadata": {},
   "source": [
    "#### Organising and Shuffling our data"
   ]
  },
  {
   "cell_type": "code",
   "execution_count": null,
   "metadata": {},
   "outputs": [],
   "source": [
    "# Shuffling\n",
    "df = df.reindex(np.random.permutation(df.index))\n",
    "\n",
    "# Getting rid of label white spaces\n",
    "df = df.rename(index=str, columns={var:(re.sub('[\\s+]', '', var))for var in list(df)})"
   ]
  },
  {
   "cell_type": "markdown",
   "metadata": {},
   "source": [
    "It looks like our variables of interest are, `maincategory`, `goal`, `usdpledged`, `country`, `backers` to predict `state`."
   ]
  },
  {
   "cell_type": "markdown",
   "metadata": {},
   "source": [
    "#### Defining data variables"
   ]
  },
  {
   "cell_type": "markdown",
   "metadata": {},
   "source": [
    "***Update 2*** It seems like we have to use a special preprocessing tool (One Hot etc.) to train the model with categorical variables. As Google's TF tutorial doesn't offer any numerical data training, further research shows that we should use `skflow.preprocessing.CategoricalProcessor`. \n",
    "\n",
    "I could assign `int` values to the variables, but that might mislead TensorFlow as the number of different features are huge for both categorical variables, so it might cause all sorts of black magic with our trainer.\n",
    "\n",
    "***Update 3*** It seems like there is a lot to ensuring that categorical variables may be passed through tensorflow, and I'll drop it for now.\n",
    "\n",
    "```python\n",
    "# I made the mistake of using  \n",
    "# from tensorflow.contrib.learn import skflow\n",
    "# seems like skflow is just a meme name as in sk for scikit.\n",
    "from tensorflow.contrib import learn as skflow\n",
    "cat_process = skflow.preprocessing.CategoricalProcessor()\n",
    "```"
   ]
  },
  {
   "cell_type": "code",
   "execution_count": null,
   "metadata": {},
   "outputs": [],
   "source": [
    "X_labels = ['goal',\n",
    "            'usdpledged', \n",
    "            'backers']\n",
    "\n",
    "X = df[X_labels]\n",
    "\n",
    "# Converting y to boolean so TF may digest it easier\n",
    "y = pd.DataFrame((df['state'].copy() == \"successful\").astype(int))"
   ]
  },
  {
   "cell_type": "markdown",
   "metadata": {},
   "source": [
    "#### Partitioning our data into Tensors\n",
    "\n",
    "***Update*** I abandoned splitting data via TF, and resorted to using numpy.\n",
    "```python\n",
    "split_sizes = {\n",
    "    \"train\":int(len(df)*0.7),\n",
    "    \"devtest\":math.ceil(len(df)*0.15),\n",
    "    \"test\":math.ceil(len(df)*0.15)\n",
    "}\n",
    "\n",
    "train = dict()\n",
    "devtest = dict()\n",
    "test = dict()\n",
    "\n",
    "train['X'], devtest['X'], test['X'] = tf.split(X,\n",
    "                                     [split_sizes[\"train\"],\n",
    "                                      split_sizes[\"devtest\"],\n",
    "                                      split_sizes[\"test\"]],\n",
    "                                     0)\n",
    "\n",
    "train['y'], devtest['y'], test['y'] = tf.split(y,\n",
    "                                     [split_sizes[\"train\"],\n",
    "                                      split_sizes[\"devtest\"],\n",
    "                                      split_sizes[\"test\"]],\n",
    "                                     0)\n",
    "```"
   ]
  },
  {
   "cell_type": "code",
   "execution_count": null,
   "metadata": {},
   "outputs": [],
   "source": [
    "split_sizes = {\n",
    "    \"train\":int(len(df)*0.7),\n",
    "    \"devtest\":math.ceil(len(df)*0.15),\n",
    "    \"test\":math.ceil(len(df)*0.15)\n",
    "}\n",
    "\n",
    "train = dict()\n",
    "dev = dict() \n",
    "test = dict()\n",
    "\n",
    "X_ = np.split(X, [split_sizes['train'],\n",
    "                 split_sizes['train']+split_sizes['devtest'],\n",
    "                 split_sizes['train']+split_sizes['devtest']+split_sizes['test']],\n",
    "                 axis=0)\n",
    "train['X'] = X_[0]\n",
    "dev['X'] = X_[1]\n",
    "test['X'] = X_[2]"
   ]
  },
  {
   "cell_type": "code",
   "execution_count": null,
   "metadata": {},
   "outputs": [],
   "source": [
    "y_ = np.split(y, [split_sizes['train'],\n",
    "                 split_sizes['train']+split_sizes['devtest'],\n",
    "                 split_sizes['train']+split_sizes['devtest']+split_sizes['test']],\n",
    "                 axis=0)\n",
    "train['y'] = y_[0]\n",
    "dev['y'] = y_[1]\n",
    "test['y'] = y_[2]"
   ]
  },
  {
   "cell_type": "markdown",
   "metadata": {},
   "source": [
    "#### Our Input Function"
   ]
  },
  {
   "cell_type": "code",
   "execution_count": null,
   "metadata": {},
   "outputs": [],
   "source": [
    "def input_fn(features, targets, batch_size=1, shuffle=True, num_epochs=None):\n",
    "    features = {key:np.array(value) for key,value in dict(features).items()}\n",
    "    print((features, targets))\n",
    "    ds = Dataset.from_tensor_slices((features, targets))\n",
    "    ds = ds.batch(batch_size).repeat(num_epochs)\n",
    "    \n",
    "    if shuffle:    ds = ds.shuffle(buffer_size=10000)\n",
    "    \n",
    "    features, labels = ds.make_one_shot_iterator().get_next()\n",
    "    \n",
    "    return features, labels"
   ]
  },
  {
   "cell_type": "markdown",
   "metadata": {},
   "source": [
    "#### Feature Columns"
   ]
  },
  {
   "cell_type": "code",
   "execution_count": null,
   "metadata": {},
   "outputs": [],
   "source": [
    "X_attr = set([tf.feature_column.numeric_column(Xi)\n",
    "              for Xi in X])"
   ]
  },
  {
   "cell_type": "markdown",
   "metadata": {},
   "source": [
    "#### Optimising, Instantiating and Training "
   ]
  },
  {
   "cell_type": "code",
   "execution_count": null,
   "metadata": {},
   "outputs": [],
   "source": [
    "optim = tf.train.GradientDescentOptimizer(learning_rate=0.01)\n",
    "optim = tf.contrib.estimator.clip_gradients_by_norm(optim, 5.0)\n",
    "\n",
    "lin_regress = tf.estimator.LinearClassifier(\n",
    "    feature_columns = X_attr,\n",
    "    optimizer = optim,\n",
    "    model_dir = \"../data/TENSORFLOWTEMP\"\n",
    ")"
   ]
  },
  {
   "cell_type": "code",
   "execution_count": null,
   "metadata": {},
   "outputs": [],
   "source": [
    "lin_regress.train(\n",
    "    input_fn = lambda:input_fn(train['X'], train['y']),\n",
    "    steps = 100\n",
    ")"
   ]
  },
  {
   "cell_type": "markdown",
   "metadata": {},
   "source": [
    "#### Problem with input function\n",
    "As I tried using the trainer, I kept on bumping into \n",
    "```\n",
    "TypeError: Expected binary or unicode string, got nan\n",
    "```\n",
    "And I found out that my numpy arrays were of `dtype=object` which explains why the trainer is getting an upset stomach.\n",
    "\n",
    "I then decided to hard code the numpy array conversion to be float with `.astype(float)`, which my input function returned.\n",
    " \n",
    "```\n",
    "ValueError: could not convert string to float: '2010-09-16 220841'\n",
    "```\n",
    "\n",
    "Which shows that my previous method destroyed some of the integrity of the original `.csv` file.\n",
    "\n",
    "(If only type locking was as loose as C, but then again this would create a new host of problems so I take that back.) \n",
    "\n",
    "<br>\n",
    "\n",
    "As the `.csv` has proven to be problematic, I'll move back to using the iris data set."
   ]
  },
  {
   "cell_type": "markdown",
   "metadata": {},
   "source": [
    "<a id='part2iris'></a>\n",
    "### Part 2 with Iris\n",
    "#### Creating species predictee via KMeans (From last week)"
   ]
  },
  {
   "cell_type": "code",
   "execution_count": 3,
   "metadata": {},
   "outputs": [],
   "source": [
    "from sklearn import datasets as sk_ds\n",
    "import re\n",
    "meta = sk_ds.load_iris()\n",
    "\n",
    "# Making our feature names TF friendly\n",
    "meta['feature_names'] = [(re.sub('[\\s+]|(\\(cm\\))', '', name))\n",
    "                         for name in meta['feature_names']]\n",
    "\n",
    "# Listing down variable data types to convert into numpy Dataframe\n",
    "index = [i+1 for i in range(len(meta['data']))]\n",
    "df = pd.DataFrame(meta['data'], index=index, columns=meta['feature_names'])\n",
    "\n",
    "def input_fn (): return tf.constant(df.as_matrix(), tf.float32, df.shape), None\n",
    "\n",
    "kmean = tf.contrib.learn.KMeansClustering(num_clusters=3, relative_tolerance=0.0001)\n",
    "_ = kmean.fit(input_fn=input_fn)\n",
    "\n",
    "# Adding our cluster predictions to our dataframe\n",
    "df['species'] = list(kmean.predict_cluster_idx(input_fn=input_fn))"
   ]
  },
  {
   "cell_type": "markdown",
   "metadata": {},
   "source": [
    "#### Defining the variables of interest"
   ]
  },
  {
   "cell_type": "code",
   "execution_count": 4,
   "metadata": {},
   "outputs": [],
   "source": [
    "df = df.reindex(np.random.permutation(df.index))\n",
    "X = df[meta['feature_names']]\n",
    "y = df[['species']]"
   ]
  },
  {
   "cell_type": "markdown",
   "metadata": {},
   "source": [
    "#### Splitting the data"
   ]
  },
  {
   "cell_type": "code",
   "execution_count": 5,
   "metadata": {},
   "outputs": [],
   "source": [
    "split_sizes = {\n",
    "    \"train\":int(len(df)*0.5),\n",
    "    \"devtest\":math.ceil(len(df)*0.25),\n",
    "    \"test\":math.ceil(len(df)*0.25)\n",
    "}\n",
    "\n",
    "train = dict()\n",
    "dev = dict() \n",
    "test = dict()\n",
    "\n",
    "X_ = np.split(X, [split_sizes['train'],\n",
    "                 split_sizes['train']+split_sizes['devtest'],\n",
    "                 split_sizes['train']+split_sizes['devtest']+split_sizes['test']],\n",
    "                 axis=0)\n",
    "train['X'] = X_[0]\n",
    "dev['X'] = X_[1]\n",
    "test['X'] = X_[2]\n",
    "\n",
    "y_ = np.split(y, [split_sizes['train'],\n",
    "                 split_sizes['train']+split_sizes['devtest'],\n",
    "                 split_sizes['train']+split_sizes['devtest']+split_sizes['test']],\n",
    "                 axis=0)\n",
    "train['y'] = y_[0]\n",
    "dev['y'] = y_[1]\n",
    "test['y'] = y_[2]"
   ]
  },
  {
   "cell_type": "markdown",
   "metadata": {},
   "source": [
    "#### Defining the input function"
   ]
  },
  {
   "cell_type": "code",
   "execution_count": 6,
   "metadata": {},
   "outputs": [],
   "source": [
    "def input_fn(features, targets, batch_size=1, shuffle=True, num_epochs=None):\n",
    "    features = {key:np.array(value) for key,value in dict(features).items()}\n",
    "    ds = Dataset.from_tensor_slices((features, targets))\n",
    "    ds = ds.batch(batch_size).repeat(num_epochs)\n",
    "    \n",
    "    if shuffle:    ds = ds.shuffle(buffer_size=10000)\n",
    "    \n",
    "    features, labels = ds.make_one_shot_iterator().get_next()\n",
    "    \n",
    "    return features, labels"
   ]
  },
  {
   "cell_type": "markdown",
   "metadata": {},
   "source": [
    "#### Feature Columns"
   ]
  },
  {
   "cell_type": "code",
   "execution_count": 7,
   "metadata": {},
   "outputs": [],
   "source": [
    "X_attr = set([tf.feature_column.numeric_column(Xi)\n",
    "              for Xi in X])"
   ]
  },
  {
   "cell_type": "markdown",
   "metadata": {},
   "source": [
    "#### Optimiser"
   ]
  },
  {
   "cell_type": "code",
   "execution_count": 8,
   "metadata": {},
   "outputs": [],
   "source": [
    "optim = tf.train.GradientDescentOptimizer(learning_rate=0.01)\n",
    "optim = tf.contrib.estimator.clip_gradients_by_norm(optim, 5.0)\n",
    "\n",
    "lin_class = tf.estimator.LinearClassifier(\n",
    "    feature_columns = X_attr,\n",
    "    optimizer = optim,\n",
    "#     model_dir = \"../data/TENSORFLOWTEMP\",\n",
    "    n_classes=len(meta['feature_names'])\n",
    ")"
   ]
  },
  {
   "cell_type": "markdown",
   "metadata": {},
   "source": [
    "`model_dir = \"../data/TENSORFLOWTEMP\"` caused me some agony as it made the trainer pass.\n",
    "\n",
    "```\n",
    "InvalidArgumentError: tensor name \"variable\" not found in checkpoint files\n",
    "```\n",
    "\n",
    "It seems like if we specify an old checkpoint, TensorFlow won't actually overwrite the files of the old model and actually attempt to match the old with our current model."
   ]
  },
  {
   "cell_type": "markdown",
   "metadata": {},
   "source": [
    "#### Defining some common variables\n",
    "\n",
    "This part was mostly taken from [Google's classification guide](https://colab.research.google.com/notebooks/mlcc/logistic_regression.ipynb?hl=en#scrollTo=SE2-hq8PIYHz).\n",
    "\n",
    "It uses Log-Loss to measure the success of the model.\n",
    "\n",
    "##### Log Loss.\n",
    "A smaller Log-Loss is usually what we want, where a perfect classifier would have a log loss of 0.\n",
    "\n",
    "The formula is:\n",
    "\n",
    "$$-\\frac{1}{n}\\sum\\limits_{i=1}^n\\sum\\limits_{j=1}^m{y_{ij}}{\\log{p_{ij}}}$$\n",
    "\n",
    "Where:\n",
    "\n",
    "    n : size of sample\n",
    "    m : number of labels\n",
    "    y : boolean if j is correct prediction for i\n",
    "    p : probability of assigning specific label j to i\n",
    "    \n",
    "Essentially, this formula is comparing the model's asserted probabilities to the actual value.\n",
    "\n",
    "***Update*** My model was, for some reason, returning 4 probabilities for each y sample, when we actually only want 3 probabilities.\n",
    "\n",
    "On further investigation, when we average the probabilities for the 4th label:\n",
    "\n",
    "```python\n",
    ">>> np.mean([probs[3] for probs in pred['train']])\n",
    "0.00090087147\n",
    ">>> np.std([probs[3] for probs in pred['train']])\n",
    "0.0012877111\n",
    "```\n",
    "\n",
    "This probability is extremely low with an almost negligable spread, so we could even just ignore this all together."
   ]
  },
  {
   "cell_type": "code",
   "execution_count": 9,
   "metadata": {},
   "outputs": [],
   "source": [
    "log_loss = {\n",
    "    'train':[],\n",
    "    'dev':[],\n",
    "    'test':[]\n",
    "}\n",
    "pred = dict()\n",
    "train_input = lambda: input_fn(train['X'], train['y'], batch_size=batch_size)\n",
    "pred_train_input = lambda: input_fn(train['X'], train['y'], num_epochs=1,shuffle=False)\n",
    "pred_dev_input = lambda: input_fn(dev['X'], dev['y'], num_epochs=1, shuffle=False)\n",
    "pred_test_input = lambda: input_fn(test['X'], test['y'], num_epochs=1, shuffle=False)"
   ]
  },
  {
   "cell_type": "code",
   "execution_count": 10,
   "metadata": {},
   "outputs": [
    {
     "name": "stdout",
     "output_type": "stream",
     "text": [
      "Train log losses:\n",
      "Period 0 :\n",
      "\tTRAIN:.......0.480\tDEV:.......0.599\n",
      "Period 1 :\n",
      "\tTRAIN:.......0.425\tDEV:.......0.526\n",
      "Period 2 :\n",
      "\tTRAIN:.......0.365\tDEV:.......0.521\n",
      "Period 3 :\n",
      "\tTRAIN:.......0.329\tDEV:.......0.458\n",
      "Period 4 :\n",
      "\tTRAIN:.......0.312\tDEV:.......0.438\n",
      "Period 5 :\n",
      "\tTRAIN:.......0.303\tDEV:.......0.432\n",
      "Period 6 :\n",
      "\tTRAIN:.......0.307\tDEV:.......0.405\n",
      "Period 7 :\n",
      "\tTRAIN:.......0.300\tDEV:.......0.448\n",
      "Period 8 :\n",
      "\tTRAIN:.......0.301\tDEV:.......0.451\n",
      "Period 9 :\n",
      "\tTRAIN:.......0.284\tDEV:.......0.412\n"
     ]
    }
   ],
   "source": [
    "periods = 10\n",
    "print('Train log losses:')\n",
    "for period in range(periods):\n",
    "    lin_class.train(\n",
    "        input_fn=lambda:input_fn(train['X'], train['y']),\n",
    "        steps = 100\n",
    "    )\n",
    "    \n",
    "    pred['train'] = lin_class.predict(input_fn=pred_train_input)\n",
    "    pred['train'] = np.array([item['probabilities'][:3] for item in pred['train']])\n",
    "    \n",
    "    pred['dev'] = lin_class.predict(input_fn=pred_dev_input)\n",
    "    pred['dev'] = np.array([item['probabilities'][:3] for item in pred['dev']])\n",
    "    \n",
    "    log_loss['train'].append(metrics.log_loss(train['y'],pred['train']))\n",
    "    log_loss['dev'].append(metrics.log_loss(dev['y'], pred['dev']))\n",
    "    print('Period',period,':')\n",
    "    print('\\tTRAIN:%s%0.3f\\tDEV:%s%0.3f' % ('.'*7, log_loss['train'][period],\n",
    "                                            '.'*7, log_loss['dev'][period]))"
   ]
  },
  {
   "cell_type": "code",
   "execution_count": 11,
   "metadata": {},
   "outputs": [
    {
     "data": {
      "image/png": "[encoded data removed]",
      "text/plain": [
       "<matplotlib.figure.Figure at 0x56862ea860>"
      ]
     },
     "metadata": {},
     "output_type": "display_data"
    }
   ],
   "source": [
    "%matplotlib inline\n",
    "plt.ylabel('LogLoss')\n",
    "plt.xlabel('Period')\n",
    "plt.title('LogLoss vs. Periods')\n",
    "plt.tight_layout()\n",
    "plt.plot(log_loss['train'], label='training')\n",
    "plt.plot(log_loss['dev'], label='devtest')\n",
    "plt.legend()\n",
    "plt.show()"
   ]
  },
  {
   "cell_type": "markdown",
   "metadata": {},
   "source": [
    "It looks like generally, our Log Loss is very crap, but with a minute sample size, we can only go so far. \n",
    "\n",
    "As is expected, the Dev Test still yields a greater log loss than our training."
   ]
  },
  {
   "cell_type": "markdown",
   "metadata": {},
   "source": [
    "### Now with the test data"
   ]
  },
  {
   "cell_type": "code",
   "execution_count": 12,
   "metadata": {},
   "outputs": [
    {
     "name": "stdout",
     "output_type": "stream",
     "text": [
      "\tTEST:.......0.366\n",
      "\tTEST:.......0.341\n",
      "\tTEST:.......0.339\n",
      "\tTEST:.......0.306\n",
      "\tTEST:.......0.303\n",
      "\tTEST:.......0.304\n",
      "\tTEST:.......0.301\n",
      "\tTEST:.......0.300\n",
      "\tTEST:.......0.325\n",
      "\tTEST:.......0.307\n"
     ]
    }
   ],
   "source": [
    "for period in range(periods):\n",
    "    lin_class.train(\n",
    "        input_fn=lambda:input_fn(train['X'], train['y']),\n",
    "        steps = 100\n",
    "    )\n",
    "    \n",
    "    pred['test'] = lin_class.predict(input_fn=pred_test_input)\n",
    "    pred['test'] = np.array([item['probabilities'][:3] for item in pred['test']])\n",
    "    \n",
    "    log_loss['test'].append(metrics.log_loss(test['y'],pred['test']))\n",
    "    \n",
    "    print('\\tTEST:%s%0.3f' % ('.'*7, log_loss['test'][period]))"
   ]
  },
  {
   "cell_type": "markdown",
   "metadata": {},
   "source": [
    "Funnily, our test set looks better than our dev set."
   ]
  },
  {
   "cell_type": "markdown",
   "metadata": {},
   "source": [
    "<a id='part3'></a>\n",
    "## Part 3\n",
    "### Regression with Neural Networks\n",
    "#### Setting up and Cleaning"
   ]
  },
  {
   "cell_type": "code",
   "execution_count": 49,
   "metadata": {},
   "outputs": [],
   "source": [
    "df = pd.read_csv('../data/Family Income and Expenditure.csv')\n",
    "\n",
    "import re\n",
    "\n",
    "if \"Total Food Expenditure\" in list(df):    \n",
    "    df = df.drop(\"Total Food Expenditure\", 1)\n",
    "reg = re.compile('.*(([Ee]xpenditure)|([Ee]xpenses))$')\n",
    "expenditure_types = [var for var in list(df) if re.match(reg, var)]\n",
    "df[\"TotalExpenditure\"] = np.sum(df[expenditure_types],1)\n",
    "\n",
    "reg_number = re.compile('Number.*')\n",
    "reg_house = re.compile('House .*')\n",
    "reg_type = re.compile('Type .*')\n",
    "\n",
    "remove = [var for var in list(df) if re.match(reg_number, var) \n",
    "                                  or re.match(reg_house, var) \n",
    "                                  or re.match(reg_type, var)]  + expenditure_types\n",
    "\n",
    "for var in remove:\n",
    "    if var in list(df):\n",
    "        df = df.drop(var, 1)\n",
    "\n",
    "df = df.rename(index=str, columns={var:(re.sub('[\\s+]', '', var))for var in list(df)})"
   ]
  },
  {
   "cell_type": "markdown",
   "metadata": {},
   "source": [
    "#### Listing Features and Targets"
   ]
  },
  {
   "cell_type": "code",
   "execution_count": 50,
   "metadata": {},
   "outputs": [],
   "source": [
    "df = df.reindex(np.random.permutation(df.index))\n",
    "\n",
    "X = df[[\"HouseholdHeadAge\"]]\n",
    "X_attr = [tf.feature_column.numeric_column(\"HouseholdHeadAge\")]\n",
    "y = df[\"TotalExpenditure\"]"
   ]
  },
  {
   "cell_type": "markdown",
   "metadata": {},
   "source": [
    "#### Splitting the data"
   ]
  },
  {
   "cell_type": "code",
   "execution_count": 51,
   "metadata": {},
   "outputs": [],
   "source": [
    "# I'm splitting my data by 50:25:25, (train:devtest:test)\n",
    "split_sizes = {\n",
    "    \"train\":int(len(df)*0.5),\n",
    "    \"dev\":math.ceil(len(df)*0.25),\n",
    "    \"test\":math.ceil(len(df)*0.25),\n",
    "}\n",
    "train = dict()\n",
    "dev = dict()\n",
    "test = dict()\n",
    "train['X'], dev['X'], test['X'] = tf.split(X, \n",
    "                          [split_sizes[\"train\"], \n",
    "                           split_sizes[\"dev\"],\n",
    "                           split_sizes[\"test\"]],\n",
    "                          0)\n",
    "X_attr = [tf.feature_column.numeric_column(\"HouseholdHeadAge\")]\n",
    "\n",
    "train['y'], dev['y'], test['y'] = tf.split(y, \n",
    "                          [split_sizes[\"train\"], \n",
    "                           split_sizes[\"dev\"],\n",
    "                           split_sizes[\"test\"]],\n",
    "                          0)"
   ]
  },
  {
   "cell_type": "markdown",
   "metadata": {},
   "source": [
    "#### Configuring an optimiser and input function"
   ]
  },
  {
   "cell_type": "code",
   "execution_count": 52,
   "metadata": {},
   "outputs": [],
   "source": [
    "optim = tf.train.GradientDescentOptimizer(learning_rate=20)\n",
    "optim = tf.contrib.estimator.clip_gradients_by_norm(optim, 5.0)\n",
    "dnn_reg = tf.estimator.DNNRegressor(\n",
    "    feature_columns=X_attr,\n",
    "    optimizer=optim,\n",
    "    hidden_units = [10, 10]\n",
    ")"
   ]
  },
  {
   "cell_type": "code",
   "execution_count": 53,
   "metadata": {},
   "outputs": [],
   "source": [
    "def input_fn(X, X_name, y, batch_size=1, shuffle=True, num_epochs=None):    \n",
    "    ds = Dataset.from_tensor_slices(({X_name:X}, y))\n",
    "    ds = ds.batch(batch_size).repeat(num_epochs)\n",
    "    \n",
    "    if shuffle: ds = ds.shuffle(buffer_size=10000)\n",
    "    \n",
    "    return ds.make_one_shot_iterator().get_next()"
   ]
  },
  {
   "cell_type": "markdown",
   "metadata": {},
   "source": [
    "### Training"
   ]
  },
  {
   "cell_type": "code",
   "execution_count": 54,
   "metadata": {},
   "outputs": [],
   "source": [
    "dnn_reg.train(\n",
    "    lambda:input_fn(train['X'], 'HouseholdHeadAge', train['y']),\n",
    "    steps=100\n",
    ")\n",
    "\n",
    "y_pred = dnn_reg.predict(\n",
    "    lambda:input_fn(train['X'], 'HouseholdHeadAge', train['y'], num_epochs=1, shuffle=False))\n",
    "y_pred_T = tf.convert_to_tensor([pred_row[\"predictions\"][0] for pred_row in y_pred], dtype=tf.float32)"
   ]
  },
  {
   "cell_type": "markdown",
   "metadata": {},
   "source": [
    "#### Train set"
   ]
  },
  {
   "cell_type": "code",
   "execution_count": 55,
   "metadata": {},
   "outputs": [],
   "source": [
    "rmse_ = tf.sqrt(tf.losses.mean_squared_error(train['y'], y_pred_T))\n",
    "\n",
    "sess = tf.InteractiveSession()\n",
    "tmp = tf.Print(rmse_, [rmse_])\n",
    "rmse = dict()\n",
    "rmse['train'] = tmp.eval()"
   ]
  },
  {
   "cell_type": "markdown",
   "metadata": {},
   "source": [
    "#### Dev set"
   ]
  },
  {
   "cell_type": "code",
   "execution_count": 56,
   "metadata": {},
   "outputs": [],
   "source": [
    "y_pred = dnn_reg.predict(\n",
    "    lambda:input_fn(dev['X'], 'HouseholdHeadAge', dev['y'], num_epochs=1, shuffle=False))\n",
    "y_pred_T = tf.convert_to_tensor([pred_row[\"predictions\"][0] for pred_row in y_pred], dtype=tf.float32)\n",
    "\n",
    "rmse_ = tf.sqrt(tf.losses.mean_squared_error(dev['y'], y_pred_T))\n",
    "\n",
    "sess = tf.InteractiveSession()\n",
    "tmp = tf.Print(rmse_, [rmse_])\n",
    "rmse['dev'] = tmp.eval()"
   ]
  },
  {
   "cell_type": "markdown",
   "metadata": {},
   "source": [
    "### Evaluation"
   ]
  },
  {
   "cell_type": "code",
   "execution_count": 57,
   "metadata": {},
   "outputs": [
    {
     "name": "stdout",
     "output_type": "stream",
     "text": [
      "train's RMSE:\t175366\n",
      "dev's RMSE:\t178641\n"
     ]
    }
   ],
   "source": [
    "for key in rmse.keys():\n",
    "    print(\"%s's RMSE:\\t%0.0f\" %(key, rmse[key]))"
   ]
  },
  {
   "cell_type": "markdown",
   "metadata": {},
   "source": [
    "Funnily, our DNN Regressor didn't perform as well as our Linear Regressor, but it's most likely due to the lack of tweaking\n",
    "\n",
    "### Tweaking\n",
    "\n",
    "For tweaking, I'm going to record the RMSE's of the various learning rates and hidden units of the DNN.\n",
    "\n",
    "_This might take a while_"
   ]
  },
  {
   "cell_type": "code",
   "execution_count": 58,
   "metadata": {},
   "outputs": [],
   "source": [
    "learning_rates = range(0, 100, 10)\n",
    "hidden_units = [[10, 10],\n",
    "                [10,10,10],\n",
    "                [20,20],\n",
    "                [20,20,20],\n",
    "                [30,30], \n",
    "                [30,30,30]]\n",
    "rmses = {\n",
    "    'train':[],\n",
    "    'dev':[]\n",
    "}\n",
    "for learning_rate in learning_rates:\n",
    "    for hidden_unit in hidden_units:\n",
    "        optim = tf.train.GradientDescentOptimizer(learning_rate=learning_rate)\n",
    "        optim = tf.contrib.estimator.clip_gradients_by_norm(optim, 5.0)\n",
    "        dnn_reg = tf.estimator.DNNRegressor(\n",
    "            feature_columns=X_attr,\n",
    "            optimizer=optim,\n",
    "            hidden_units = hidden_unit\n",
    "        )\n",
    "\n",
    "        dnn_reg.train(\n",
    "            lambda:input_fn(train['X'], 'HouseholdHeadAge', train['y']),\n",
    "            steps=100\n",
    "        )\n",
    "\n",
    "        y_pred = dnn_reg.predict(\n",
    "            lambda:input_fn(train['X'], 'HouseholdHeadAge', train['y'], num_epochs=1, shuffle=False))\n",
    "        y_pred_T = tf.convert_to_tensor([pred_row[\"predictions\"][0] for pred_row in y_pred], dtype=tf.float32)\n",
    "\n",
    "        rmses['train'].append(tf.sqrt(tf.losses.mean_squared_error(train['y'], y_pred_T)))\n",
    "\n",
    "        y_pred = dnn_reg.predict(\n",
    "            lambda:input_fn(dev['X'], 'HouseholdHeadAge', dev['y'], num_epochs=1, shuffle=False))\n",
    "        y_pred_T = tf.convert_to_tensor([pred_row[\"predictions\"][0] for pred_row in y_pred], dtype=tf.float32)\n",
    "\n",
    "        rmses['dev'].append(tf.sqrt(tf.losses.mean_squared_error(dev['y'], y_pred_T)))"
   ]
  },
  {
   "cell_type": "code",
   "execution_count": 73,
   "metadata": {},
   "outputs": [
    {
     "name": "stdout",
     "output_type": "stream",
     "text": [
      "0\n",
      "TRAIN 250166.64\n",
      "DEV 254024.97\n",
      "...\n",
      "1\n",
      "TRAIN 250169.27\n",
      "DEV 254027.55\n",
      "...\n",
      "2\n",
      "TRAIN 250171.98\n",
      "DEV 254030.17\n",
      "...\n",
      "3\n",
      "TRAIN 250173.22\n",
      "DEV 254031.33\n",
      "...\n",
      "4\n",
      "TRAIN 250161.62\n",
      "DEV 254019.97\n",
      "...\n",
      "5\n",
      "TRAIN 250169.83\n",
      "DEV 254028.1\n",
      "...\n",
      "6\n",
      "TRAIN 246390.34\n",
      "DEV 250279.28\n",
      "...\n",
      "7\n",
      "TRAIN 156580.44\n",
      "DEV 161105.61\n",
      "...\n",
      "8\n",
      "TRAIN 155678.98\n",
      "DEV 160046.62\n",
      "...\n",
      "9\n",
      "TRAIN 165364.48\n",
      "DEV 169979.53\n",
      "...\n",
      "10\n",
      "TRAIN 161580.77\n",
      "DEV 166194.36\n",
      "...\n",
      "11\n",
      "TRAIN 189849.08\n",
      "DEV 194268.92\n",
      "...\n",
      "12\n",
      "TRAIN 242879.66\n",
      "DEV 246797.7\n",
      "...\n",
      "13\n",
      "TRAIN 155697.14\n",
      "DEV 160057.75\n",
      "...\n",
      "14\n",
      "TRAIN 157112.23\n",
      "DEV 161283.0\n",
      "...\n",
      "15\n",
      "TRAIN 157042.64\n",
      "DEV 161219.72\n",
      "...\n",
      "16\n",
      "TRAIN 174744.33\n",
      "DEV 178041.45\n",
      "...\n",
      "17\n",
      "TRAIN 159810.06\n",
      "DEV 164411.6\n",
      "...\n",
      "18\n",
      "TRAIN 170064.83\n",
      "DEV 173540.23\n",
      "...\n",
      "19\n",
      "TRAIN 155649.7\n",
      "DEV 160033.64\n",
      "...\n",
      "20\n",
      "TRAIN 172670.84\n",
      "DEV 176044.52\n",
      "...\n",
      "21\n",
      "TRAIN 194807.55\n",
      "DEV 199177.56\n",
      "...\n",
      "22\n",
      "TRAIN 162994.64\n",
      "DEV 167611.64\n",
      "...\n",
      "23\n",
      "TRAIN 172104.31\n",
      "DEV 176684.64\n",
      "...\n",
      "24\n",
      "TRAIN 235139.97\n",
      "DEV 239124.3\n",
      "...\n",
      "25\n",
      "TRAIN 169312.84\n",
      "DEV 173911.19\n",
      "...\n",
      "26\n",
      "TRAIN 235737.0\n",
      "DEV 239716.16\n",
      "...\n",
      "27\n",
      "TRAIN 236722.08\n",
      "DEV 240692.6\n",
      "...\n",
      "28\n",
      "TRAIN 161758.25\n",
      "DEV 166372.55\n",
      "...\n",
      "29\n",
      "TRAIN 235847.75\n",
      "DEV 239825.97\n",
      "...\n",
      "30\n",
      "TRAIN 197241.12\n",
      "DEV 199871.78\n",
      "...\n",
      "31\n",
      "TRAIN 178262.8\n",
      "DEV 182793.4\n",
      "...\n",
      "32\n",
      "TRAIN 183692.47\n",
      "DEV 188172.8\n",
      "...\n",
      "33\n",
      "TRAIN 232222.02\n",
      "DEV 236232.1\n",
      "...\n",
      "34\n",
      "TRAIN 231857.88\n",
      "DEV 235871.11\n",
      "...\n",
      "35\n",
      "TRAIN 232412.19\n",
      "DEV 236420.55\n",
      "...\n",
      "36\n",
      "TRAIN 157835.42\n",
      "DEV 161945.64\n",
      "...\n",
      "37\n",
      "TRAIN 194630.81\n",
      "DEV 197327.2\n",
      "...\n",
      "38\n",
      "TRAIN 228320.7\n",
      "DEV 232365.73\n",
      "...\n",
      "39\n",
      "TRAIN 175717.88\n",
      "DEV 178980.28\n",
      "...\n",
      "40\n",
      "TRAIN 228318.08\n",
      "DEV 232363.11\n",
      "...\n",
      "41\n",
      "TRAIN 228760.86\n",
      "DEV 232801.88\n",
      "...\n",
      "42\n",
      "TRAIN 224330.06\n",
      "DEV 228411.64\n",
      "...\n",
      "43\n",
      "TRAIN 338500.97\n",
      "DEV 339290.2\n",
      "...\n",
      "44\n",
      "TRAIN 243633.23\n",
      "DEV 247545.03\n",
      "...\n",
      "45\n",
      "TRAIN 199179.83\n",
      "DEV 203505.81\n",
      "...\n",
      "46\n",
      "TRAIN 158896.66\n",
      "DEV 163486.9\n",
      "...\n",
      "47\n",
      "TRAIN 228392.86\n",
      "DEV 232437.19\n",
      "...\n",
      "48\n",
      "TRAIN 222815.36\n",
      "DEV 226910.84\n",
      "...\n",
      "49\n",
      "TRAIN 221678.4\n",
      "DEV 225784.5\n",
      "...\n",
      "50\n",
      "TRAIN 232372.56\n",
      "DEV 236381.2\n",
      "...\n",
      "51\n",
      "TRAIN 221677.83\n",
      "DEV 225783.97\n",
      "...\n",
      "52\n",
      "TRAIN 221104.75\n",
      "DEV 225216.22\n",
      "...\n",
      "53\n",
      "TRAIN 222532.11\n",
      "DEV 226630.25\n",
      "...\n",
      "54\n",
      "TRAIN 218006.17\n",
      "DEV 222146.89\n",
      "...\n",
      "55\n",
      "TRAIN 217377.94\n",
      "DEV 221524.62\n",
      "...\n",
      "56\n",
      "TRAIN 228305.72\n",
      "DEV 232350.83\n",
      "...\n",
      "57\n",
      "TRAIN 220636.58\n",
      "DEV 224752.45\n",
      "...\n",
      "58\n",
      "TRAIN 218312.88\n",
      "DEV 222450.67\n",
      "...\n",
      "59\n",
      "TRAIN 219567.58\n",
      "DEV 223693.55\n",
      "...\n"
     ]
    }
   ],
   "source": [
    "sess = tf.InteractiveSession()\n",
    "rmses_ = {\n",
    "    'train':[],\n",
    "    'dev':[]\n",
    "}\n",
    "for i in range(len(rmses['train'])):\n",
    "    print(i)\n",
    "    rmses_['train'].append(tf.Print(rmses['train'][i], [rmses['train'][i]]).eval())\n",
    "    rmses_['dev'].append(tf.Print(rmses['dev'][i], [rmses['dev'][i]]).eval())\n",
    "    print('TRAIN', rmses_['train'][i])\n",
    "    print('DEV', rmses_['dev'][i])\n",
    "    print('...')"
   ]
  },
  {
   "cell_type": "code",
   "execution_count": 72,
   "metadata": {},
   "outputs": [
    {
     "data": {
      "image/png": "[encoded data removed]",
      "text/plain": [
       "<matplotlib.figure.Figure at 0x5686cb0a20>"
      ]
     },
     "metadata": {},
     "output_type": "display_data"
    }
   ],
   "source": [
    "plt.ylabel('RMSE')\n",
    "plt.xlabel('iterator')\n",
    "plt.title('RMSE vs. Iterator')\n",
    "plt.tight_layout()\n",
    "plt.plot(rmses_['train'], label='training')\n",
    "plt.plot(rmses_['dev'], label='devtest')\n",
    "plt.legend()\n",
    "plt.show()"
   ]
  },
  {
   "cell_type": "markdown",
   "metadata": {},
   "source": [
    "Through the plot, it seems like the training versus the dev is suspiciously similar, but we'll go with iteration 13, which has a smaller RMSE all around.\n",
    "\n",
    "iteration 13 happens to be learning rate 30 with hidden units of [10, 10].\n",
    "\n",
    "We'll apply that to the training sample."
   ]
  },
  {
   "cell_type": "code",
   "execution_count": 77,
   "metadata": {},
   "outputs": [
    {
     "data": {
      "text/plain": [
       "166477.47"
      ]
     },
     "execution_count": 77,
     "metadata": {},
     "output_type": "execute_result"
    }
   ],
   "source": [
    "optim = tf.train.GradientDescentOptimizer(learning_rate=30)\n",
    "optim = tf.contrib.estimator.clip_gradients_by_norm(optim, 5.0)\n",
    "dnn_reg = tf.estimator.DNNRegressor(\n",
    "    feature_columns=X_attr,\n",
    "    optimizer=optim,\n",
    "    hidden_units = [10,10]\n",
    ")\n",
    "\n",
    "dnn_reg.train(\n",
    "    lambda:input_fn(train['X'], 'HouseholdHeadAge', train['y']),\n",
    "    steps=100\n",
    ")\n",
    "\n",
    "y_pred = dnn_reg.predict(\n",
    "    lambda:input_fn(test['X'], 'HouseholdHeadAge', test['y'], num_epochs=1, shuffle=False))\n",
    "y_pred_T = tf.convert_to_tensor([pred_row[\"predictions\"][0] for pred_row in y_pred], dtype=tf.float32)\n",
    "\n",
    "test_rmse = tf.sqrt(tf.losses.mean_squared_error(dev['y'], y_pred_T))\n",
    "tf.Print(test_rmse, [test_rmse]).eval()"
   ]
  },
  {
   "cell_type": "markdown",
   "metadata": {},
   "source": [
    "Seems to be a some what reasonable RMSE score.\n",
    "<a id=\"part3class\"></a>\n",
    "## Classification with NN\n",
    "### Making our Targets\n",
    "\n",
    "Exactly the same as Part 2"
   ]
  },
  {
   "cell_type": "code",
   "execution_count": 78,
   "metadata": {},
   "outputs": [],
   "source": [
    "from sklearn import datasets as sk_ds\n",
    "import re\n",
    "meta = sk_ds.load_iris()\n",
    "\n",
    "# Making our feature names TF friendly\n",
    "meta['feature_names'] = [(re.sub('[\\s+]|(\\(cm\\))', '', name))\n",
    "                         for name in meta['feature_names']]\n",
    "\n",
    "# Listing down variable data types to convert into numpy Dataframe\n",
    "index = [i+1 for i in range(len(meta['data']))]\n",
    "df = pd.DataFrame(meta['data'], index=index, columns=meta['feature_names'])\n",
    "\n",
    "def input_fn (): return tf.constant(df.as_matrix(), tf.float32, df.shape), None\n",
    "\n",
    "kmean = tf.contrib.learn.KMeansClustering(num_clusters=3, relative_tolerance=0.0001)\n",
    "_ = kmean.fit(input_fn=input_fn)\n",
    "\n",
    "# Adding our cluster predictions to our dataframe\n",
    "df['species'] = list(kmean.predict_cluster_idx(input_fn=input_fn))\n",
    "\n",
    "df = df.reindex(np.random.permutation(df.index))\n",
    "X = df[meta['feature_names']]\n",
    "y = df[['species']]\n",
    "\n",
    "split_sizes = {\n",
    "    \"train\":int(len(df)*0.5),\n",
    "    \"devtest\":math.ceil(len(df)*0.25),\n",
    "    \"test\":math.ceil(len(df)*0.25)\n",
    "}\n",
    "\n",
    "train = dict()\n",
    "dev = dict() \n",
    "test = dict()\n",
    "\n",
    "X_ = np.split(X, [split_sizes['train'],\n",
    "                 split_sizes['train']+split_sizes['devtest'],\n",
    "                 split_sizes['train']+split_sizes['devtest']+split_sizes['test']],\n",
    "                 axis=0)\n",
    "train['X'] = X_[0]\n",
    "dev['X'] = X_[1]\n",
    "test['X'] = X_[2]\n",
    "\n",
    "y_ = np.split(y, [split_sizes['train'],\n",
    "                 split_sizes['train']+split_sizes['devtest'],\n",
    "                 split_sizes['train']+split_sizes['devtest']+split_sizes['test']],\n",
    "                 axis=0)\n",
    "train['y'] = y_[0]\n",
    "dev['y'] = y_[1]\n",
    "test['y'] = y_[2]"
   ]
  },
  {
   "cell_type": "markdown",
   "metadata": {},
   "source": [
    "### Inputer"
   ]
  },
  {
   "cell_type": "code",
   "execution_count": 79,
   "metadata": {},
   "outputs": [],
   "source": [
    "def input_fn(features, targets, batch_size=1, shuffle=True, num_epochs=None):\n",
    "    features = {key:np.array(value) for key,value in dict(features).items()}\n",
    "    ds = Dataset.from_tensor_slices((features, targets))\n",
    "    ds = ds.batch(batch_size).repeat(num_epochs)\n",
    "    \n",
    "    if shuffle:    ds = ds.shuffle(buffer_size=10000)\n",
    "    \n",
    "    features, labels = ds.make_one_shot_iterator().get_next()\n",
    "    \n",
    "    return features, labels"
   ]
  },
  {
   "cell_type": "markdown",
   "metadata": {},
   "source": [
    "### Optimiser"
   ]
  },
  {
   "cell_type": "code",
   "execution_count": 122,
   "metadata": {},
   "outputs": [],
   "source": [
    "optim = tf.train.GradientDescentOptimizer(learning_rate=0.01)\n",
    "optim = tf.contrib.estimator.clip_gradients_by_norm(optim, 5.0)\n",
    "\n",
    "log_loss = {\n",
    "    'train':[],\n",
    "    'dev':[],\n",
    "    'test':[]\n",
    "}\n",
    "pred = dict()\n",
    "train_input = lambda: input_fn(train['X'], train['y'], batch_size=batch_size)\n",
    "pred_train_input = lambda: input_fn(train['X'], train['y'], num_epochs=1,shuffle=False)\n",
    "pred_dev_input = lambda: input_fn(dev['X'], dev['y'], num_epochs=1, shuffle=False)\n",
    "pred_test_input = lambda: input_fn(test['X'], test['y'], num_epochs=1, shuffle=False)"
   ]
  },
  {
   "cell_type": "markdown",
   "metadata": {},
   "source": [
    "### Tweaking\n",
    "_This may also take a while_"
   ]
  },
  {
   "cell_type": "code",
   "execution_count": 119,
   "metadata": {
    "scrolled": false
   },
   "outputs": [
    {
     "name": "stdout",
     "output_type": "stream",
     "text": [
      "0 .......... [10, 10]\n",
      "train:  0.13203070397601513 .......... dev:  0.1147196236299024\n",
      "0 .......... [20, 20]\n",
      "train:  0.12753005939196063 .......... dev:  0.10013642272224911\n",
      "10 .......... [10, 10]\n",
      "train:  0.13139549433352177 .......... dev:  0.06138873989975405\n",
      "10 .......... [20, 20]\n",
      "train:  0.12676768412795808 .......... dev:  0.07125445571309989\n",
      "20 .......... [10, 10]\n",
      "train:  0.12775649972867523 .......... dev:  0.08404363435244958\n",
      "20 .......... [20, 20]\n",
      "train:  0.12492623394539691 .......... dev:  0.09216466106437748\n",
      "30 .......... [10, 10]\n",
      "train:  0.13218200797362575 .......... dev:  0.09695829866250742\n",
      "30 .......... [20, 20]\n",
      "train:  0.1248418209617004 .......... dev:  0.07733542199208263\n",
      "40 .......... [10, 10]\n",
      "train:  0.12366303163037552 .......... dev:  0.07589592678528664\n",
      "40 .......... [20, 20]\n",
      "train:  0.12247194297415187 .......... dev:  0.07812621305664853\n",
      "50 .......... [10, 10]\n",
      "train:  0.12337863619841244 .......... dev:  0.10560651814089202\n",
      "50 .......... [20, 20]\n",
      "train:  0.1235284941106778 .......... dev:  0.06453760014995612\n",
      "60 .......... [10, 10]\n",
      "train:  0.12908621384760258 .......... dev:  0.08268727327480868\n",
      "60 .......... [20, 20]\n",
      "train:  0.12177491105788665 .......... dev:  0.07007322499805581\n",
      "70 .......... [10, 10]\n",
      "train:  0.1302240189571603 .......... dev:  0.05201298561183614\n",
      "70 .......... [20, 20]\n",
      "train:  0.12243735088539646 .......... dev:  0.07087273883724558\n",
      "80 .......... [10, 10]\n",
      "train:  0.1188794566228656 .......... dev:  0.07408140441384865\n",
      "80 .......... [20, 20]\n",
      "train:  0.1184117706586998 .......... dev:  0.08855026421131908\n",
      "90 .......... [10, 10]\n",
      "train:  0.11968670606272061 .......... dev:  0.07987561144653199\n",
      "90 .......... [20, 20]\n",
      "train:  0.11781296628605958 .......... dev:  0.07394879103623297\n"
     ]
    }
   ],
   "source": [
    "learning_rates = range(0, 100, 10)\n",
    "hidden_units = [[10,10],\n",
    "                [20,20]]\n",
    "\n",
    "for learning_rate in learning_rates:\n",
    "    for hidden_unit in hidden_units:\n",
    "        optim = tf.train.GradientDescentOptimizer(learning_rate=learning_rate)\n",
    "        optim = tf.contrib.estimator.clip_gradients_by_norm(optim, 5.0)\n",
    "        \n",
    "        dnn_class = tf.estimator.DNNClassifier(\n",
    "            feature_columns=X_attr,\n",
    "            optimizer=optim,\n",
    "            hidden_units = hidden_unit\n",
    "        )\n",
    "        \n",
    "        periods = 10\n",
    "        last_train = 0\n",
    "        last_dev = 0\n",
    "        for period in range(periods):\n",
    "            lin_class.train(\n",
    "                input_fn=lambda:input_fn(train['X'], train['y']),\n",
    "                steps = 100\n",
    "            )\n",
    "\n",
    "            pred['train'] = lin_class.predict(input_fn=pred_train_input)\n",
    "            pred['train'] = np.array([item['probabilities'][:3] for item in pred['train']])\n",
    "\n",
    "            pred['dev'] = lin_class.predict(input_fn=pred_dev_input)\n",
    "            pred['dev'] = np.array([item['probabilities'][:3] for item in pred['dev']])\n",
    "\n",
    "            log_loss['train'].append(metrics.log_loss(train['y'],pred['train']))\n",
    "            log_loss['dev'].append(metrics.log_loss(dev['y'], pred['dev']))\n",
    "            \n",
    "            last_train = metrics.log_loss(train['y'],pred['train'])\n",
    "            last_dev = metrics.log_loss(dev['y'], pred['dev'])\n",
    "        print(learning_rate,'.'*10 , hidden_unit)\n",
    "        print('train: ', last_train, '.'*10,'dev: ', last_dev)"
   ]
  },
  {
   "cell_type": "markdown",
   "metadata": {},
   "source": [
    "Seems like our dev test learn rateis wildly varied with no clear pattern.\n",
    "\n",
    "The minimum values seems to be held by learning_rate = 10 hidden units = [10,10]\n",
    "\n",
    "We can apply this onto our test."
   ]
  }
 ],
 "metadata": {
  "kernelspec": {
   "display_name": "Python 3",
   "language": "python",
   "name": "python3"
  },
  "language_info": {
   "codemirror_mode": {
    "name": "ipython",
    "version": 3
   },
   "file_extension": ".py",
   "mimetype": "text/x-python",
   "name": "python",
   "nbconvert_exporter": "python",
   "pygments_lexer": "ipython3",
   "version": "3.6.4"
  }
 },
 "nbformat": 4,
 "nbformat_minor": 2
}
